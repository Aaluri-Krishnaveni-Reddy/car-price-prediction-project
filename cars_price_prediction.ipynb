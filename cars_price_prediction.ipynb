{
 "cells": [
  {
   "cell_type": "markdown",
   "metadata": {},
   "source": [
    "# Cars Price Prediction Project"
   ]
  },
  {
   "cell_type": "markdown",
   "metadata": {},
   "source": [
    "## Problem Statement"
   ]
  },
  {
   "cell_type": "markdown",
   "metadata": {},
   "source": [
    "With the covid19 impact in the market, we have seen lot of changes in the car market. Now some cars are in demand hence making them costly and some are not in demand hence cheaper. One of our clients works with small traders, who sell used cars. With the change in market due to covid 19 impact, our client is facing problems with their previous car price valuation machine learning models. So, they are looking for new machine learning models from new data. We have to make car price valuation model.\n"
   ]
  },
  {
   "cell_type": "markdown",
   "metadata": {},
   "source": [
    "## Importing Libraries"
   ]
  },
  {
   "cell_type": "code",
   "execution_count": 1,
   "metadata": {},
   "outputs": [],
   "source": [
    "import pandas as pd\n",
    "import numpy as np\n",
    "import matplotlib.pyplot as plt\n",
    "import seaborn as sns\n",
    "from sklearn.model_selection import train_test_split\n",
    "from sklearn.linear_model import LinearRegression\n",
    "from sklearn.linear_model import Lasso,Ridge\n",
    "from sklearn.tree import DecisionTreeRegressor\n",
    "from sklearn.ensemble import GradientBoostingRegressor\n",
    "from sklearn.ensemble import RandomForestRegressor\n",
    "from sklearn.neighbors import KNeighborsRegressor\n",
    "from sklearn.linear_model import SGDRegressor\n",
    "from sklearn.model_selection import cross_val_score\n",
    "from sklearn.model_selection import GridSearchCV\n",
    "from sklearn.metrics import r2_score\n",
    "import math\n",
    "from sklearn.metrics import mean_absolute_error,mean_squared_error\n",
    "import warnings \n",
    "warnings.filterwarnings('ignore')"
   ]
  },
  {
   "cell_type": "code",
   "execution_count": 2,
   "metadata": {},
   "outputs": [],
   "source": [
    "df=pd.read_csv('cars.csv')"
   ]
  },
  {
   "cell_type": "code",
   "execution_count": 3,
   "metadata": {},
   "outputs": [
    {
     "data": {
      "text/html": [
       "<div>\n",
       "<style scoped>\n",
       "    .dataframe tbody tr th:only-of-type {\n",
       "        vertical-align: middle;\n",
       "    }\n",
       "\n",
       "    .dataframe tbody tr th {\n",
       "        vertical-align: top;\n",
       "    }\n",
       "\n",
       "    .dataframe thead th {\n",
       "        text-align: right;\n",
       "    }\n",
       "</style>\n",
       "<table border=\"1\" class=\"dataframe\">\n",
       "  <thead>\n",
       "    <tr style=\"text-align: right;\">\n",
       "      <th></th>\n",
       "      <th>Unnamed: 0</th>\n",
       "      <th>Brand</th>\n",
       "      <th>Model</th>\n",
       "      <th>year</th>\n",
       "      <th>Owners</th>\n",
       "      <th>Transmission</th>\n",
       "      <th>Variant</th>\n",
       "      <th>Mileage</th>\n",
       "      <th>Fuel</th>\n",
       "      <th>Price</th>\n",
       "    </tr>\n",
       "  </thead>\n",
       "  <tbody>\n",
       "    <tr>\n",
       "      <th>0</th>\n",
       "      <td>0</td>\n",
       "      <td>Mercedes-Benz</td>\n",
       "      <td>GL-Class</td>\n",
       "      <td>2015</td>\n",
       "      <td>1st</td>\n",
       "      <td>Automatic</td>\n",
       "      <td>350 CDI Blue Efficiency</td>\n",
       "      <td>65000.0 km</td>\n",
       "      <td>Diesel</td>\n",
       "      <td>₹ 35,50,111</td>\n",
       "    </tr>\n",
       "    <tr>\n",
       "      <th>1</th>\n",
       "      <td>1</td>\n",
       "      <td>Mercedes-Benz</td>\n",
       "      <td>New C-Class</td>\n",
       "      <td>2012</td>\n",
       "      <td>2nd</td>\n",
       "      <td>Automatic</td>\n",
       "      <td>220 BlueEfficiency</td>\n",
       "      <td>56100.0 km</td>\n",
       "      <td>Diesel</td>\n",
       "      <td>₹ 11,80,000</td>\n",
       "    </tr>\n",
       "    <tr>\n",
       "      <th>2</th>\n",
       "      <td>2</td>\n",
       "      <td>Fiat</td>\n",
       "      <td>Punto</td>\n",
       "      <td>2012</td>\n",
       "      <td>NaN</td>\n",
       "      <td>Manual</td>\n",
       "      <td>Active 1.3</td>\n",
       "      <td>69856.0 km</td>\n",
       "      <td>Diesel</td>\n",
       "      <td>₹ 1,55,000</td>\n",
       "    </tr>\n",
       "    <tr>\n",
       "      <th>3</th>\n",
       "      <td>3</td>\n",
       "      <td>Hyundai</td>\n",
       "      <td>Accent</td>\n",
       "      <td>2001</td>\n",
       "      <td>3rd</td>\n",
       "      <td>Manual</td>\n",
       "      <td>GLE</td>\n",
       "      <td>70,000 km</td>\n",
       "      <td>Petrol</td>\n",
       "      <td>₹ 70,000</td>\n",
       "    </tr>\n",
       "    <tr>\n",
       "      <th>4</th>\n",
       "      <td>4</td>\n",
       "      <td>Maruti Suzuki</td>\n",
       "      <td>Estilo</td>\n",
       "      <td>2010</td>\n",
       "      <td>2nd</td>\n",
       "      <td>Manual</td>\n",
       "      <td>LXI</td>\n",
       "      <td>90,000 km</td>\n",
       "      <td>Petrol</td>\n",
       "      <td>₹ 1,55,000</td>\n",
       "    </tr>\n",
       "    <tr>\n",
       "      <th>...</th>\n",
       "      <td>...</td>\n",
       "      <td>...</td>\n",
       "      <td>...</td>\n",
       "      <td>...</td>\n",
       "      <td>...</td>\n",
       "      <td>...</td>\n",
       "      <td>...</td>\n",
       "      <td>...</td>\n",
       "      <td>...</td>\n",
       "      <td>...</td>\n",
       "    </tr>\n",
       "    <tr>\n",
       "      <th>535</th>\n",
       "      <td>535</td>\n",
       "      <td>Mahindra</td>\n",
       "      <td>Scorpio</td>\n",
       "      <td>2018</td>\n",
       "      <td>1st</td>\n",
       "      <td>Manual</td>\n",
       "      <td>S3</td>\n",
       "      <td>39000.0 km</td>\n",
       "      <td>Diesel</td>\n",
       "      <td>₹ 10,25,000</td>\n",
       "    </tr>\n",
       "    <tr>\n",
       "      <th>536</th>\n",
       "      <td>536</td>\n",
       "      <td>Skoda</td>\n",
       "      <td>Superb</td>\n",
       "      <td>2012</td>\n",
       "      <td>1st</td>\n",
       "      <td>Automatic</td>\n",
       "      <td>2008-2013 2.8 V6 AT</td>\n",
       "      <td>83000.0 km</td>\n",
       "      <td>Diesel</td>\n",
       "      <td>₹ 4,99,000</td>\n",
       "    </tr>\n",
       "    <tr>\n",
       "      <th>537</th>\n",
       "      <td>537</td>\n",
       "      <td>Maruti Suzuki</td>\n",
       "      <td>Swift Dzire</td>\n",
       "      <td>2017</td>\n",
       "      <td>1st</td>\n",
       "      <td>Automatic</td>\n",
       "      <td>VXi AT</td>\n",
       "      <td>43000.0 km</td>\n",
       "      <td>Petrol</td>\n",
       "      <td>₹ 5,98,000</td>\n",
       "    </tr>\n",
       "    <tr>\n",
       "      <th>538</th>\n",
       "      <td>538</td>\n",
       "      <td>Maruti Suzuki</td>\n",
       "      <td>A-Star</td>\n",
       "      <td>2010</td>\n",
       "      <td>1st</td>\n",
       "      <td>Automatic</td>\n",
       "      <td>Vxi (ABS), Automatic</td>\n",
       "      <td>38000.0 km</td>\n",
       "      <td>Petrol</td>\n",
       "      <td>₹ 2,65,000</td>\n",
       "    </tr>\n",
       "    <tr>\n",
       "      <th>539</th>\n",
       "      <td>539</td>\n",
       "      <td>Maruti Suzuki</td>\n",
       "      <td>Zen Estilo</td>\n",
       "      <td>2007</td>\n",
       "      <td>1st</td>\n",
       "      <td>Manual</td>\n",
       "      <td>1.1 LXI BSIII</td>\n",
       "      <td>51000.0 km</td>\n",
       "      <td>Petrol</td>\n",
       "      <td>₹ 1,10,000</td>\n",
       "    </tr>\n",
       "  </tbody>\n",
       "</table>\n",
       "<p>540 rows × 10 columns</p>\n",
       "</div>"
      ],
      "text/plain": [
       "     Unnamed: 0          Brand        Model  year Owners Transmission  \\\n",
       "0             0  Mercedes-Benz     GL-Class  2015    1st    Automatic   \n",
       "1             1  Mercedes-Benz  New C-Class  2012    2nd    Automatic   \n",
       "2             2           Fiat        Punto  2012    NaN       Manual   \n",
       "3             3        Hyundai       Accent  2001    3rd       Manual   \n",
       "4             4  Maruti Suzuki       Estilo  2010    2nd       Manual   \n",
       "..          ...            ...          ...   ...    ...          ...   \n",
       "535         535       Mahindra      Scorpio  2018    1st       Manual   \n",
       "536         536          Skoda       Superb  2012    1st    Automatic   \n",
       "537         537  Maruti Suzuki  Swift Dzire  2017    1st    Automatic   \n",
       "538         538  Maruti Suzuki       A-Star  2010    1st    Automatic   \n",
       "539         539  Maruti Suzuki   Zen Estilo  2007    1st       Manual   \n",
       "\n",
       "                     Variant     Mileage    Fuel        Price  \n",
       "0    350 CDI Blue Efficiency  65000.0 km  Diesel  ₹ 35,50,111  \n",
       "1         220 BlueEfficiency  56100.0 km  Diesel  ₹ 11,80,000  \n",
       "2                 Active 1.3  69856.0 km  Diesel   ₹ 1,55,000  \n",
       "3                        GLE   70,000 km  Petrol     ₹ 70,000  \n",
       "4                        LXI   90,000 km  Petrol   ₹ 1,55,000  \n",
       "..                       ...         ...     ...          ...  \n",
       "535                       S3  39000.0 km  Diesel  ₹ 10,25,000  \n",
       "536      2008-2013 2.8 V6 AT  83000.0 km  Diesel   ₹ 4,99,000  \n",
       "537                   VXi AT  43000.0 km  Petrol   ₹ 5,98,000  \n",
       "538     Vxi (ABS), Automatic  38000.0 km  Petrol   ₹ 2,65,000  \n",
       "539            1.1 LXI BSIII  51000.0 km  Petrol   ₹ 1,10,000  \n",
       "\n",
       "[540 rows x 10 columns]"
      ]
     },
     "execution_count": 3,
     "metadata": {},
     "output_type": "execute_result"
    }
   ],
   "source": [
    "df"
   ]
  },
  {
   "cell_type": "code",
   "execution_count": 4,
   "metadata": {},
   "outputs": [],
   "source": [
    "df.drop('Unnamed: 0',axis=1,inplace=True)"
   ]
  },
  {
   "cell_type": "code",
   "execution_count": 5,
   "metadata": {},
   "outputs": [
    {
     "data": {
      "text/plain": [
       "(540, 9)"
      ]
     },
     "execution_count": 5,
     "metadata": {},
     "output_type": "execute_result"
    }
   ],
   "source": [
    "df.shape"
   ]
  },
  {
   "cell_type": "code",
   "execution_count": 6,
   "metadata": {},
   "outputs": [
    {
     "data": {
      "text/plain": [
       "Brand            0\n",
       "Model            0\n",
       "year             0\n",
       "Owners          21\n",
       "Transmission     0\n",
       "Variant         21\n",
       "Mileage          0\n",
       "Fuel             0\n",
       "Price            0\n",
       "dtype: int64"
      ]
     },
     "execution_count": 6,
     "metadata": {},
     "output_type": "execute_result"
    }
   ],
   "source": [
    "df.isnull().sum()"
   ]
  },
  {
   "cell_type": "code",
   "execution_count": 7,
   "metadata": {},
   "outputs": [
    {
     "data": {
      "text/plain": [
       "<AxesSubplot:>"
      ]
     },
     "execution_count": 7,
     "metadata": {},
     "output_type": "execute_result"
    },
    {
     "data": {
      "image/png": "[encoded data removed]",
      "text/plain": [
       "<Figure size 720x576 with 2 Axes>"
      ]
     },
     "metadata": {
      "needs_background": "light"
     },
     "output_type": "display_data"
    }
   ],
   "source": [
    "plt.figure(figsize=(10,8))\n",
    "sns.heatmap(df.isnull())"
   ]
  },
  {
   "cell_type": "code",
   "execution_count": 8,
   "metadata": {},
   "outputs": [],
   "source": [
    "df=df.dropna()"
   ]
  },
  {
   "cell_type": "code",
   "execution_count": 9,
   "metadata": {},
   "outputs": [
    {
     "name": "stdout",
     "output_type": "stream",
     "text": [
      "<class 'pandas.core.frame.DataFrame'>\n",
      "Int64Index: 507 entries, 0 to 539\n",
      "Data columns (total 9 columns):\n",
      " #   Column        Non-Null Count  Dtype \n",
      "---  ------        --------------  ----- \n",
      " 0   Brand         507 non-null    object\n",
      " 1   Model         507 non-null    object\n",
      " 2   year          507 non-null    object\n",
      " 3   Owners        507 non-null    object\n",
      " 4   Transmission  507 non-null    object\n",
      " 5   Variant       507 non-null    object\n",
      " 6   Mileage       507 non-null    object\n",
      " 7   Fuel          507 non-null    object\n",
      " 8   Price         507 non-null    object\n",
      "dtypes: object(9)\n",
      "memory usage: 39.6+ KB\n"
     ]
    }
   ],
   "source": [
    "df.info()"
   ]
  },
  {
   "cell_type": "code",
   "execution_count": 10,
   "metadata": {},
   "outputs": [
    {
     "data": {
      "text/html": [
       "<div>\n",
       "<style scoped>\n",
       "    .dataframe tbody tr th:only-of-type {\n",
       "        vertical-align: middle;\n",
       "    }\n",
       "\n",
       "    .dataframe tbody tr th {\n",
       "        vertical-align: top;\n",
       "    }\n",
       "\n",
       "    .dataframe thead th {\n",
       "        text-align: right;\n",
       "    }\n",
       "</style>\n",
       "<table border=\"1\" class=\"dataframe\">\n",
       "  <thead>\n",
       "    <tr style=\"text-align: right;\">\n",
       "      <th></th>\n",
       "      <th>Brand</th>\n",
       "      <th>Model</th>\n",
       "      <th>year</th>\n",
       "      <th>Owners</th>\n",
       "      <th>Transmission</th>\n",
       "      <th>Variant</th>\n",
       "      <th>Mileage</th>\n",
       "      <th>Fuel</th>\n",
       "      <th>Price</th>\n",
       "    </tr>\n",
       "  </thead>\n",
       "  <tbody>\n",
       "    <tr>\n",
       "      <th>count</th>\n",
       "      <td>507</td>\n",
       "      <td>507</td>\n",
       "      <td>507</td>\n",
       "      <td>507</td>\n",
       "      <td>507</td>\n",
       "      <td>507</td>\n",
       "      <td>507</td>\n",
       "      <td>507</td>\n",
       "      <td>507</td>\n",
       "    </tr>\n",
       "    <tr>\n",
       "      <th>unique</th>\n",
       "      <td>29</td>\n",
       "      <td>139</td>\n",
       "      <td>21</td>\n",
       "      <td>4</td>\n",
       "      <td>3</td>\n",
       "      <td>342</td>\n",
       "      <td>214</td>\n",
       "      <td>5</td>\n",
       "      <td>260</td>\n",
       "    </tr>\n",
       "    <tr>\n",
       "      <th>top</th>\n",
       "      <td>Maruti Suzuki</td>\n",
       "      <td>Swift</td>\n",
       "      <td>2018</td>\n",
       "      <td>1st</td>\n",
       "      <td>Manual</td>\n",
       "      <td>Others</td>\n",
       "      <td>65000.0 km</td>\n",
       "      <td>Diesel</td>\n",
       "      <td>₹ 4,25,000</td>\n",
       "    </tr>\n",
       "    <tr>\n",
       "      <th>freq</th>\n",
       "      <td>157</td>\n",
       "      <td>37</td>\n",
       "      <td>54</td>\n",
       "      <td>339</td>\n",
       "      <td>386</td>\n",
       "      <td>16</td>\n",
       "      <td>13</td>\n",
       "      <td>263</td>\n",
       "      <td>15</td>\n",
       "    </tr>\n",
       "  </tbody>\n",
       "</table>\n",
       "</div>"
      ],
      "text/plain": [
       "                Brand  Model  year Owners Transmission Variant     Mileage  \\\n",
       "count             507    507   507    507          507     507         507   \n",
       "unique             29    139    21      4            3     342         214   \n",
       "top     Maruti Suzuki  Swift  2018    1st       Manual  Others  65000.0 km   \n",
       "freq              157     37    54    339          386      16          13   \n",
       "\n",
       "          Fuel       Price  \n",
       "count      507         507  \n",
       "unique       5         260  \n",
       "top     Diesel  ₹ 4,25,000  \n",
       "freq       263          15  "
      ]
     },
     "execution_count": 10,
     "metadata": {},
     "output_type": "execute_result"
    }
   ],
   "source": [
    "df.describe()"
   ]
  },
  {
   "cell_type": "code",
   "execution_count": 11,
   "metadata": {},
   "outputs": [
    {
     "name": "stdout",
     "output_type": "stream",
     "text": [
      "Unique items in column Brand are: ['Mercedes-Benz' 'Hyundai' 'Maruti Suzuki' 'Ford' 'Honda' 'Mahindra'\n",
      " 'Renault' 'Toyota' 'Skoda' 'BMW' 'Volkswagen' 'Tata' 'Nissan' 'Bentley'\n",
      " 'Jeep' 'Aston Martin' 'Audi' 'Land Rover' 'Datsun' 'Lamborghini' 'MG'\n",
      " 'Porsche' 'Chevrolet' 'Other Brands' 'Kia' 'Isuzu' 'Mitsubishi' 'Ferrari'\n",
      " 'Rolls-Royce']\n",
      "---------------------------------------------------------------------------\n",
      "Unique items in column Model are: ['GL-Class' 'New C-Class' 'Accent' 'Estilo' 'Ecosport' 'Brio' 'City'\n",
      " 'Venue' 'Alto 800' 'Santro Xing' 'Swift' 'Baleno' 'Figo' '800'\n",
      " 'Swift Dzire' 'Fiesta' 'Creta' 'Xylo' 'Wagon R' 'Wagon R 1.0' 'Logan'\n",
      " 'KWID' 'XUV500' 'Innova Crysta' 'Rapid' 'Octavia' 'E-Class' 'Zen Estilo'\n",
      " 'Endeavour' 'XUV300' '5 Series' 'Amaze' 'CLA' 'Grand Vitara' 'X1' 'Ameo'\n",
      " 'Innova' 'i20' 'Sumo Gold' 'i10' 'Ertiga' 'Jazz' 'Duster' 'A-Star'\n",
      " 'Xcent' 'WR-V' '3 Series' 'Santro' 'Fluidic Verna' 'Grand I 10' 'Scorpio'\n",
      " 'Civic' 'Fortuner' 'Terrano' 'Grand i10' 'Rexton' 'Land Cruiser'\n",
      " 'Elite i20' 'Continental Flying Spur' 'Indica' 'Indigo CS' '3 Series GT'\n",
      " 'Alto' 'Ritz' 'EON' 'Celerio X' 'TUV 300' 'Passat' 'Ciaz' 'Wrangler'\n",
      " 'V8 Vantage' 'Vitara Brezza' 'Corolla Altis' 'Q3' 'Lodgy' 'GLC Class'\n",
      " 'Ignis' 'i20 Active' 'Superb' 'Discovery Sport' 'RediGO' 'Huracan'\n",
      " 'Etios Liva' 'Safari' 'S-Cross' 'Safari Storme' 'H2X' 'Verna' 'Omni'\n",
      " 'Vento' 'Hector' 'Boxster' 'Range Rover Velar' 'SX4' 'Celerio'\n",
      " 'Wagon R Stingray' 'A4' 'Compass' 'Laura' 'Optra' 'TUV 300 Plus' 'Jetta'\n",
      " 'Fiesta Classic' 'Sunny' 'Polo' 'S-Class' 'Eeco' 'Bolero Pik-Up'\n",
      " 'Alto K10' 'Spark' 'Enjoy' 'Others' 'Swift Dzire Tour' 'Glanza' 'i8'\n",
      " 'Seltos' 'Bolero' 'D-Max V-Cross' 'Redi Go' 'Continental GTC' 'Mulsanne'\n",
      " 'Outlander' 'Tigor' 'Bentayga' 'Nano' 'S-Presso' 'Macan' 'Thar' '488 GTB'\n",
      " 'A6' 'Flying Spur' 'Yaris' 'GLA Class' 'Wraith' 'Bolero Power Plus' 'Q7'\n",
      " 'Range Rover Evoque' '7 Series' 'CR-V']\n",
      "---------------------------------------------------------------------------\n",
      "Unique items in column year are: ['2015' '2012' '2001' '2010' '2013' '2014' '2020' '2019' '2016' '2005'\n",
      " '2003' '2021' '2006' '2011' '2017' '2018' '2008' '2007' '2009' '2019.0'\n",
      " '2004']\n",
      "---------------------------------------------------------------------------\n",
      "Unique items in column Owners are: ['1st' '2nd' '3rd' '4th']\n",
      "---------------------------------------------------------------------------\n",
      "Unique items in column Transmission are: ['Automatic' 'Manual' ' ']\n",
      "---------------------------------------------------------------------------\n",
      "Unique items in column Variant are: ['350 CDI Blue Efficiency' '220 BlueEfficiency' 'GLE' 'LXI'\n",
      " '2013-2015 1.5 DV5 MT Ambiente' '1.2 S MT' '2015-2017 i VTEC V'\n",
      " 'SX Opt Diesel' 'GLS' 'DDiS LDI' '1.2 CVT Delta' '1.2P Titanium MT' 'VXI'\n",
      " 'AC' 'LX Optional' 'LXI Optional-O' '2004-2010 1.6 Duratec ZXi Leather'\n",
      " 'Facelift' 'ZDi' '2004-2010 ZXi BSIV' 'D4 BS III' 'ZXI 1.2'\n",
      " 'LDI Optional' '1.2 Zeta' '2010-2012 AX BSII' '1.0 VXi' 'Petrol 1.4 GLX'\n",
      " '1.0 RXT AMT Opt' 'W11 Option AT' '2.8 GX AT 8S'\n",
      " '2011-2013 1.6 MPI Elegance' '2010-2012 VXI BS IV'\n",
      " 'Combi L and K 1.9 TDI (MT)' 'E 200 CGI Avantgarde' 'LXI BS IV'\n",
      " '2003-2013 4x2 XLT' 'W7' 'W8 Option Diesel' '1.4 TSI MT Ambition'\n",
      " '520d Luxury Line' '2011-2013 1.6 TDI Elegance' 'E Option i-VTEC' '523i'\n",
      " '200 CDI Sport' 'Grand Vitara Brezza LDI (Opt.)' 'sDrive20i xLine'\n",
      " '1.2 MPI Comfortline' '2.5 G (Diesel) 8 Seater BS-IV' 'Others' 'EX BS IV'\n",
      " 'Sportz 1.2 Kappa2' 'ZDI' 'VX Diesel' '2.5 GX (Diesel) 8 Seater'\n",
      " '110PS Diesel RxZ' 'W8 2WD' 'Vxi' '1.2 VTVT S' 'i-VTEC VX'\n",
      " '1.4 E Plus Diesel' '320d Sport' 'GLS I - Euro I' '1.6 CRDi SX Automatic'\n",
      " '2.8 ZX AT' '1.2 EMT I VTEC' 'VDI' '1.5 Diesel Titanium'\n",
      " 'Ambition 1.6 MPFI Manual' 'e i20 2014-2015 Magna 1.4 CRDi'\n",
      " 'Intelli Hybrid S4 Plus' '1.8 S MT' 'Wagon R 1.0 LXi CNG'\n",
      " '2006-2010 LXI Minor' '1.4 CRDi S Plus' 'Vdi BSIV' '2011-2016 4x2 AT'\n",
      " '2013-2017 XL 110 PS' 'RXL' '1.2 Kappa Sportz' 'Rexton' '1.2 Asta Option'\n",
      " 'VDI BS IV' 'VX' 'Asta 1.2 (O)' 'Flying Spur W12' '2012-2014 D4 BSIV'\n",
      " 'Signature Edition Diesel' 'DLE - BSIII' 'CS LS TDI' '1.5 Petrol RXE'\n",
      " 'Sportz Plus CVT' '2011-2014 VXI' 'AT W6 2WD'\n",
      " '3 Series GT 320d GT Luxury Line' '3.0 4x2 Automatic' 'LXi BS-IV'\n",
      " '1.5 TDI Ambition' 'VXi' 'Titanium' '1.0 Magna Plus Option O'\n",
      " 'VXI Option' '2011-2013 V MT' 'T4' '1.6 CRDi SX'\n",
      " '2010-2014 Diesel Comfortline 2.0 TDI' 'SHVS VDI'\n",
      " '2.5 GX (Diesel) 7 Seater' '1.5 Petrol Titanium Plus AT' '530d Highline'\n",
      " '2014-2017 VDi Plus SHVS' '2.0 4x4' 'V8 Sport' 'VDi Option'\n",
      " '2010-2013 Diesel D4DG' '2.0 TFSI Quattro Premium Plus' 'VXI 1.2'\n",
      " 'W10 2WD' '1.1 LXI BSIII' 'VVT VXI' 'AMT VXI' '2005-2010 LX BSIII'\n",
      " '85PS RxE' '2013-2015 1.5 Ti VCT MT Titanium' '300 4MATIC' '1.3 Alpha'\n",
      " 'Petrol Asta' 'S Diesel' 'L&K 1.8 TSI AT' '2011-2016 4x4 AT'\n",
      " 'Duratorq ZXI 1.4' 'TD4 HSE 7S' '1.2 Kappa Sportz Dual Tone'\n",
      " '3.0 Limited Edition' '1.3 Sigma' 'LDi' 'S10 AT 2WD' '1.2 Asta' 'S10'\n",
      " 'S11' 'LP 610 4' '2013-2016 Asta Option' 'SX i DTEC' 'Era 1.2'\n",
      " '1.5 V i DTEC Privilege' 'C 220 CDI Avantgarde' 'VDi'\n",
      " '2004-2010 VDI BSIV' '1.4 GD' '2012-2015 85PS Diesel RxL'\n",
      " '2014-2015 2.5L 4X2 MT' '2011-2014 VDI' '4x4 EX DICOR BS-III' 'Zeta 1.6'\n",
      " 'EX' '2015-2016 1.4 VTVT' '5 Seater' '2.4 VX MT 8S'\n",
      " 'Elegance 1.6 TDI CR Manual' '2010-2013 Petrol Comfortline' '525d Sedan'\n",
      " 'TD4 HSE Luxury' '1.2 Kappa Magna' '2008-2013 Elegance 2.0 TDI CR AT'\n",
      " 'GTS' 'CRDi 1.6 SX' 'R-Dynamic S' '1.2 Spotz' '2007-2010 Sportz 1.2 AT'\n",
      " 'ZDi (Opt)' '2012-2015 Diesel ZXI' 'VXI MT' '1.8 VL CVT'\n",
      " '1.5 Petrol Titanium' '1.5 TDI Active' '2009-2014 VLX 4WD BSIV'\n",
      " '2015-2017 i VTEC VX Option' 'VXI Opt' '2009-2014 M2DI'\n",
      " 'ZXI Optional AMT' '2.5 VX 8-STR' '2.5 GX 8 STR-BS-III' 'VXI Optional'\n",
      " 'Magna 1.2 iTech SE' '2010-2012 1.2 Sportz Option' 'Era'\n",
      " '2010-2012 1.4 Asta AT with AVN' '1.8 TFSI Multitronic Premium Plus'\n",
      " '2.4 VX MT' '2.0 Limited' 'i-VTEC S' '1.6 Highline'\n",
      " 'Laura 2.0 TDI AT L and K' 'LXi' '1.8 LT' 'P8' '2.5 G (Diesel) 7 Seater'\n",
      " '2010-2012 Diesel EXI' 'V' '2011-2014 1.6 SX VTVT' '1.2 S i VTEC'\n",
      " 'Magna 1.2 Kappa VTVT' 'S Manual' '1.9 Highline TDI' '1.6 SX' 'i-DTEC ZX'\n",
      " '1.4 Duratorq LXI' '2.0 TDI' '2008-2011 1.5 E MT'\n",
      " '2014-2015 i VTEC CVT VX' '2009-2011 2.5 GX 7 STR' 'Stepway 85PS RXZ 8S'\n",
      " '2014-2016 XL CVT' '2.0 TDI (177bhp), Premium' 'Titanium Plus 4X4'\n",
      " '2014-2017 VXI AT Optional' 'DDiS VDI' '1.4 S' 'E8 BS-III'\n",
      " '1.2 Magna Executive' '1.5 TDCi Titanium Plus' '2003-2007 XL 7 AT'\n",
      " '2012-2014 Sportz 1.4 CRDi' 'S 350 CDI' '110PS Diesel RxS AMT'\n",
      " '7 Seater Standard' '2.0 TDI Comfortline' '1.6 CRDi AT SX Plus'\n",
      " 'SHVS ZDI' 'Magna 1.2' '1.3 Zeta' '2012-2015 85PS Diesel RxL Plus'\n",
      " 'Etios Liva G SP*' '1.0 LT' 'VX Premium' 'i-DTEC V' '320d Luxury Line'\n",
      " 'VXI CNG' '1.3 TCDi LT 7' 'LDI' '1.3 TCDi LTZ 8' '2009-2011 E4' 'Magna'\n",
      " 'Hybrid' 'HTK Plus AT D' 'ZLX BSIII' 'E250 CDI Blue-Efficiency' '4X4'\n",
      " 'E 220 d' 'Sportz' 'Ambiente' '2014-2015 i DTEC SV' '2018 VXI' 'W11'\n",
      " 'T Option' 'GTC Convertible' '2.4 CVT' 'Vxi BSIV'\n",
      " '1.5 Diesel Titanium Plus' 'E 250 Elegance' '2011-2015 W8-2WD'\n",
      " '2.5 EV (Diesel) PS 7 Seater BS IV' '1.2 CRDi Sportz' 'XL P'\n",
      " '2013-2016 1.5 TDI Ambition' 'XZA Plus' 'sDrive 20d xLine' '6.0 W12'\n",
      " '2000-2010 Rider 1.9 TDI MT' '2009-2011 Cx' 'xDrive 20d xLine'\n",
      " 'VDI (ABS) BS-IV' 'VXI Optional MT' '2011-2014 Star VDI'\n",
      " '1999-2006 LXI BSIII' 'Petrol RxL' '2012-2015 VDI' 'VXI BS IV'\n",
      " 'Smart Hybrid Alpha' '2004-2011 2.0 V' '2015-2017 i VTEC CVT VX' 'XT'\n",
      " 'LXI Opt' '2012-2015 VXI CNG' '2013-2016 SX i-DTEC' '2.0L TDI Highline'\n",
      " '6.8' 'Turbo' 'C 200 CGI Elegance' 'DI 4X4' 'GTB' 'XL (D)' 'HTX Plus D'\n",
      " '2.0 TDI Premium Plus' 'ZLX' '1.6 CRDi SX Plus' 'V8' '1.6 CRDi AT S Plus'\n",
      " '1.4 AT Zeta' 'V Optional' 'ZDi Plus' '2010-2012 Petrol ZXI'\n",
      " 'Sportz (O) 1.2' 'SHVS VDI Limited Edition'\n",
      " '2009-2014 VLX 2WD AIRBAG BSIV' 'XV' '2012-2015 VDI Limited Edition'\n",
      " 'Delta Automatic' '2007-2010 1.8 TSI MT' 'DICOR 2.2 LX 4x2 BS IV'\n",
      " '200 d Sport' 'Coupe' '2012-2015 LX' 'SLX'\n",
      " '2012-2013 2.5 G (Diesel) 7 Seater BS IV' '45 TDI Quattro Technology'\n",
      " '2004-2010 Ldi BSIV' '2014-2015 i DTEC VX Option' 'HSE'\n",
      " '2013-2017 Elegance 2.0 TDI AT' '1.8 TSI AT L K'\n",
      " '1.5 Petrol Titanium Plus' '760Li' 'Asta Option Diesel'\n",
      " '2.5 G (Diesel) 8 - Seater' '2004-2007 2.4L 4WD' '740Li' 'i-DTEC VX' 'S'\n",
      " 'VXI Optional AMT' 'AMT ZXI' 'SHVS ZDI Plus' 'LXI Option' 'AC BSIII'\n",
      " 'Sportz 1.2' 'S3' 'Titanium Diesel' 'VXi 1.2 ABS BS-IV' 'LXI Green (CNG)'\n",
      " 'W5' '2008-2013 2.8 V6 AT' 'VXi AT' 'Vxi (ABS), Automatic']\n",
      "---------------------------------------------------------------------------\n",
      "Unique items in column Mileage are: ['65000.0 km' '56100.0 km' '70,000 km' '90,000 km' '80,000 km'\n",
      " '60000.0 km' '83126.0 km' '22000.0 km' '84000.0 km' '70000.0 km'\n",
      " '39,500 km' '28,500 km' '47,000 km' '96,396 km' '95,653 km' '1800.0 km'\n",
      " '81,500 km' '100,000 km' '75000.0 km' '58,000 km' '260,000 km'\n",
      " '53000.0 km' '85,000 km' '170000.0 km' '17000.0 km' '86000.0 km'\n",
      " '35000.0 km' '30000.0 km' '28000.0 km' '110000.0 km' '17,000 km'\n",
      " '29000.0 km' '64000.0 km' '78980.0 km' '13000.0 km' '40000.0 km'\n",
      " '98700.0 km' '56000.0 km' '32000.0 km' '42000.0 km' '50000.0 km'\n",
      " '46000.0 km' '19000.0 km' '48000.0 km' '39371.0 km' '81000.0 km'\n",
      " '85000.0 km' '68000.0 km' '55000.0 km' '72000.0 km' '54000.0 km'\n",
      " '78001.0 km' '8,200 km' '61000.0 km' '59000.0 km' '62828.0 km'\n",
      " '33700.0 km' '71000.0 km' '78000.0 km' '33000.0 km' '39000.0 km'\n",
      " '89000.0 km' '69016.0 km' '76800.0 km' '47000.0 km' '62346.0 km'\n",
      " '155000.0 km' '76,484 km' '46500.0 km' '25000.0 km' '44000.0 km'\n",
      " '21000.0 km' '77000.0 km' '114000.0 km' '120,000 km' '57000.0 km'\n",
      " '75,000 km' '80000.0 km' '7000.0 km' '76,500 km' '41000.0 km'\n",
      " '113,000 km' '39,000 km' '86400.0 km' '76000.0 km' '56500.0 km'\n",
      " '45000.0 km' '54,000 km' '90000.0 km' '125000.0 km' '15000.0 km'\n",
      " '74,000 km' '9500.0 km' '12000.0 km' '140000.0 km' '60713.0 km'\n",
      " '61557.0 km' '46829.0 km' '58,230 km' '33,000 km' '18000.0 km'\n",
      " '140,000 km' '166000.0 km' '67000.0 km' '27000.0 km' '93014.0 km'\n",
      " '66000.0 km' '2200.0 km' '145000.0 km' '51000.0 km' '3900.0 km'\n",
      " '95000.0 km' '63000.0 km' '69856.0 km' '79000.0 km' '86050.0 km'\n",
      " '26000.0 km' '73000.0 km' '120000.0 km' '122,000 km' '32,000 km' '0 km'\n",
      " '99500.0 km' '58000.0 km' '82000.0 km' '43,100 km' '95,000 km'\n",
      " '14000.0 km' '36000.0 km' '74000.0 km' '20000.0 km' '36750.0 km'\n",
      " '68500.0 km' '52000.0 km' '130000.0 km' '135000.0 km' '73500.0 km'\n",
      " '35800.0 km' '27500.0 km' '135,000 km' '105000.0 km' '129000.0 km'\n",
      " '62000.0 km' '68523.0 km' '58774.0 km' '91000.0 km' '72419.0 km'\n",
      " '94000.0 km' '88000.0 km' '31000.0 km' '98000.0 km' '4600.0 km'\n",
      " '87000.0 km' '87400.0 km' '65800.0 km' '47651.0 km' '288,000 km'\n",
      " '60,524 km' '104,500 km' '128,000 km' '131,000 km' '78,000 km'\n",
      " '99000.0 km' '27411.0 km' '83000.0 km' '134000.0 km' '38000.0 km'\n",
      " '8500.0 km' '24000.0 km' '450,000 km' '18500.0 km' '106000.0 km'\n",
      " '5,600 km' '2,000 km' '4,500 km' '56999.0 km' '38,000 km' '68,163 km'\n",
      " '130,000 km' '38101.0 km' '57300.0 km' '17,500 km' '152000.0 km'\n",
      " '49,000 km' '42,000 km' '1500.0 km' '93000.0 km' '60,000 km' '3000.0 km'\n",
      " '16000.0 km' '85800.0 km' '11000.0 km' '4000.0 km' '11070.0 km'\n",
      " '92568.0 km' '20122.0 km' '136000.0 km' '60,820 km' '140 km' '38368.0 km'\n",
      " '1.0 km' '45,000 km' '56250.0 km' '199999.0 km' '40212.0 km' '58500.0 km'\n",
      " '81756.0 km' '5000.0 km' '35808.0 km' '23000.0 km' '37916.0 km'\n",
      " '49000.0 km' '87001.0 km' '43000.0 km']\n",
      "---------------------------------------------------------------------------\n",
      "Unique items in column Fuel are: ['Diesel' 'Petrol' 'CNG & Hybrids' 'Electric' ' ']\n",
      "---------------------------------------------------------------------------\n",
      "Unique items in column Price are: ['₹ 35,50,111' '₹ 11,80,000' '₹ 70,000' '₹ 1,55,000' '₹ 3,70,000'\n",
      " '₹ 3,25,000' '₹ 6,29,999' '₹ 10,75,000' '₹ 2,70,000' '₹ 2,15,000'\n",
      " '₹ 5,95,000' '₹ 6,45,000' '₹ 4,70,000' '₹ 1,45,000' '₹ 3,99,000'\n",
      " '₹ 3,45,000' '₹ 2,95,000' '₹ 13,50,000' '₹ 3,95,000' '₹ 2,50,000'\n",
      " '₹ 3,20,000' '₹ 4,25,000' '₹ 7,20,000' '₹ 1,60,000' '₹ 17,45,000'\n",
      " '₹ 14,90,000' '₹ 3,15,000' '₹ 25,85,000' '₹ 7,65,000' '₹ 13,99,999'\n",
      " '₹ 10,90,000' '₹ 8,75,000' '₹ 12,00,000' '₹ 3,65,000' '₹ 5,61,000'\n",
      " '₹ 11,50,000' '₹ 19,75,000' '₹ 6,95,000' '₹ 32,45,000' '₹ 9,90,000'\n",
      " '₹ 6,60,000' '₹ 2,65,000' '₹ 1,99,000' '₹ 6,00,000' '₹ 5,75,000'\n",
      " '₹ 9,35,000' '₹ 4,50,000' '₹ 5,35,000' '₹ 1,90,000' '₹ 4,55,000'\n",
      " '₹ 7,49,999' '₹ 8,50,000' '₹ 8,48,000' '₹ 13,95,000' '₹ 21,45,000'\n",
      " '₹ 2,25,000' '₹ 5,80,000' '₹ 3,80,000' '₹ 1,51,000' '₹ 5,90,000'\n",
      " '₹ 3,85,000' '₹ 10,50,000' '₹ 1,48,500' '₹ 1,05,000' '₹ 4,75,000'\n",
      " '₹ 1,50,000' '₹ 9,79,000' '₹ 4,45,000' '₹ 3,60,000' '₹ 12,50,000'\n",
      " '₹ 4,00,000' '₹ 7,00,000' '₹ 5,50,000' '₹ 8,90,000' '₹ 3,50,000'\n",
      " '₹ 1,65,00,000' '₹ 2,10,000' '₹ 85,00,000' '₹ 2,45,000' '₹ 75,000'\n",
      " '₹ 9,89,000' '₹ 65,000' '₹ 4,98,000' '₹ 7,25,000' '₹ 4,39,000'\n",
      " '₹ 9,95,000' '₹ 18,42,500' '₹ 4,10,000' '₹ 37,00,000' '₹ 2,55,000'\n",
      " '₹ 4,65,000' '₹ 6,99,000' '₹ 3,75,000' '₹ 3,10,000' '₹ 4,95,000'\n",
      " '₹ 8,30,000' '₹ 5,25,000' '₹ 6,15,000' '₹ 5,49,000' '₹ 8,61,000'\n",
      " '₹ 14,75,000' '₹ 6,65,000' '₹ 60,00,000' '₹ 65,00,000' '₹ 28,45,000'\n",
      " '₹ 10,25,000' '₹ 2,49,000' '₹ 95,000' '₹ 5,10,000' '₹ 4,60,000'\n",
      " '₹ 47,50,000' '₹ 5,00,000' '₹ 6,50,000' '₹ 5,85,000' '₹ 14,45,000'\n",
      " '₹ 1,80,000' '₹ 38,00,000' '₹ 36,00,000' '₹ 2,20,000' '₹ 5,60,000'\n",
      " '₹ 13,25,000' '₹ 2,90,000' '₹ 15,50,000' '₹ 2,99,00,000' '₹ 4,90,000'\n",
      " '₹ 5,65,000' '₹ 4,49,000' '₹ 29,00,000' '₹ 3,49,000' '₹ 5,70,000'\n",
      " '₹ 3,00,000' '₹ 8,00,000' '₹ 6,75,000' '₹ 15,000' '₹ 1,20,000'\n",
      " '₹ 16,50,000' '₹ 12,45,000' '₹ 35,00,000' '₹ 1,75,000' '₹ 17,00,000'\n",
      " '₹ 3,55,000' '₹ 73,00,000' '₹ 9,65,000' '₹ 9,00,000' '₹ 62,00,000'\n",
      " '₹ 2,33,000' '₹ 4,35,000' '₹ 7,45,000' '₹ 8,80,000' '₹ 2,00,000'\n",
      " '₹ 4,20,000' '₹ 1,79,500' '₹ 6,90,000' '₹ 3,59,999' '₹ 7,75,000'\n",
      " '₹ 5,15,000' '₹ 8,99,999' '₹ 17,25,000' '₹ 15,25,000' '₹ 2,30,000'\n",
      " '₹ 3,40,000' '₹ 1,38,000' '₹ 5,79,999' '₹ 4,29,000' '₹ 8,60,000'\n",
      " '₹ 11,85,000' '₹ 2,80,000' '₹ 1,65,000' '₹ 9,50,000' '₹ 2,40,000'\n",
      " '₹ 31,20,000' '₹ 13,11,000' '₹ 4,99,000' '₹ 2,85,000' '₹ 4,80,000'\n",
      " '₹ 25,00,000' '₹ 6,25,000' '₹ 7,90,000' '₹ 2,75,000' '₹ 3,39,000'\n",
      " '₹ 1,85,000' '₹ 1,29,00,000' '₹ 6,96,666' '₹ 8,10,000' '₹ 19,50,000'\n",
      " '₹ 2,35,000' '₹ 12,25,000' '₹ 5,55,000' '₹ 50,000' '₹ 1,57,000'\n",
      " '₹ 1,10,000' '₹ 1,49,000' '₹ 5,20,000' '₹ 13,90,000' '₹ 89,00,000'\n",
      " '₹ 14,50,000' '₹ 7,80,000' '₹ 48,75,000' '₹ 5,51,000' '₹ 5,40,000'\n",
      " '₹ 2,00,00,000' '₹ 7,00,00,000' '₹ 3,30,000' '₹ 3,90,000' '₹ 1,95,000'\n",
      " '₹ 11,99,000' '₹ 4,85,000' '₹ 1,88,000' '₹ 7,40,000' '₹ 17,99,000'\n",
      " '₹ 3,10,00,000' '₹ 1,97,500' '₹ 60,000' '₹ 80,000' '₹ 9,10,000'\n",
      " '₹ 7,15,000' '₹ 7,60,000' '₹ 1,55,00,000' '₹ 7,50,000' '₹ 7,39,000'\n",
      " '₹ 10,00,000' '₹ 3,49,999' '₹ 10,10,000' '₹ 2,99,000' '₹ 2,95,00,000'\n",
      " '₹ 14,25,000' '₹ 12,99,000' '₹ 10,51,000' '₹ 12,20,000' '₹ 3,00,00,000'\n",
      " '₹ 7,10,000' '₹ 9,60,000' '₹ 9,55,000' '₹ 11,99,999' '₹ 8,44,999'\n",
      " '₹ 6,80,000' '₹ 9,25,000' '₹ 24,00,000' '₹ 3,43,000' '₹ 4,50,00,000'\n",
      " '₹ 1,39,999' '₹ 18,49,500' '₹ 58,00,000' '₹ 1,15,000' '₹ 42,00,000'\n",
      " '₹ 27,99,000' '₹ 21,90,000' '₹ 20,00,000' '₹ 8,99,000' '₹ 2,50,00,000'\n",
      " '₹ 45,00,000' '₹ 2,58,000' '₹ 7,85,000' '₹ 10,60,000' '₹ 68,000'\n",
      " '₹ 6,02,100' '₹ 9,80,000' '₹ 3,74,999' '₹ 12,95,000' '₹ 5,98,000']\n",
      "---------------------------------------------------------------------------\n"
     ]
    }
   ],
   "source": [
    "for col in df.dtypes[df.dtypes == object].index:\n",
    "    print('Unique items in column',col,'are:',df[col].unique())\n",
    "    print('-'*75)"
   ]
  },
  {
   "cell_type": "code",
   "execution_count": 12,
   "metadata": {},
   "outputs": [
    {
     "data": {
      "text/plain": [
       "array(['1st', '2nd', '3rd', '4th'], dtype=object)"
      ]
     },
     "execution_count": 12,
     "metadata": {},
     "output_type": "execute_result"
    }
   ],
   "source": [
    "df['Owners'].unique()"
   ]
  },
  {
   "cell_type": "code",
   "execution_count": 13,
   "metadata": {
    "scrolled": false
   },
   "outputs": [
    {
     "data": {
      "text/plain": [
       "1st    339\n",
       "2nd    145\n",
       "3rd     21\n",
       "4th      2\n",
       "Name: Owners, dtype: int64"
      ]
     },
     "execution_count": 13,
     "metadata": {},
     "output_type": "execute_result"
    },
    {
     "data": {
      "image/png": "[encoded data removed]",
      "text/plain": [
       "<Figure size 432x288 with 1 Axes>"
      ]
     },
     "metadata": {
      "needs_background": "light"
     },
     "output_type": "display_data"
    }
   ],
   "source": [
    "sns.countplot(df['Owners'],palette='Dark2_r')\n",
    "df['Owners'].value_counts()"
   ]
  },
  {
   "cell_type": "code",
   "execution_count": 14,
   "metadata": {},
   "outputs": [],
   "source": [
    "df['Owners']=df['Owners'].map({'1st':1,'2nd':2,'3rd':3,'4th':4})"
   ]
  },
  {
   "cell_type": "code",
   "execution_count": 15,
   "metadata": {},
   "outputs": [
    {
     "data": {
      "text/plain": [
       "array(['Automatic', 'Manual', ' '], dtype=object)"
      ]
     },
     "execution_count": 15,
     "metadata": {},
     "output_type": "execute_result"
    }
   ],
   "source": [
    "df['Transmission'].unique()"
   ]
  },
  {
   "cell_type": "code",
   "execution_count": 16,
   "metadata": {},
   "outputs": [
    {
     "data": {
      "text/plain": [
       "Manual       386\n",
       "Automatic    114\n",
       "               7\n",
       "Name: Transmission, dtype: int64"
      ]
     },
     "execution_count": 16,
     "metadata": {},
     "output_type": "execute_result"
    }
   ],
   "source": [
    "df['Transmission'].value_counts()"
   ]
  },
  {
   "cell_type": "code",
   "execution_count": 17,
   "metadata": {},
   "outputs": [
    {
     "data": {
      "text/plain": [
       "<AxesSubplot:xlabel='Transmission', ylabel='count'>"
      ]
     },
     "execution_count": 17,
     "metadata": {},
     "output_type": "execute_result"
    },
    {
     "data": {
      "image/png": "[encoded data removed]",
      "text/plain": [
       "<Figure size 720x432 with 1 Axes>"
      ]
     },
     "metadata": {
      "needs_background": "light"
     },
     "output_type": "display_data"
    }
   ],
   "source": [
    "plt.figure(figsize=(10,6))\n",
    "sns.countplot(df['Transmission'],palette='CMRmap')"
   ]
  },
  {
   "cell_type": "code",
   "execution_count": 18,
   "metadata": {},
   "outputs": [],
   "source": [
    "df['Transmission']=df['Transmission'].apply(lambda x: 0 if x=='Automatic' else 1)"
   ]
  },
  {
   "cell_type": "code",
   "execution_count": 19,
   "metadata": {},
   "outputs": [
    {
     "data": {
      "text/plain": [
       "<AxesSubplot:xlabel='year', ylabel='count'>"
      ]
     },
     "execution_count": 19,
     "metadata": {},
     "output_type": "execute_result"
    },
    {
     "data": {
      "image/png": "[encoded data removed]",
      "text/plain": [
       "<Figure size 720x432 with 1 Axes>"
      ]
     },
     "metadata": {
      "needs_background": "light"
     },
     "output_type": "display_data"
    }
   ],
   "source": [
    "plt.figure(figsize=(10,6))\n",
    "sns.countplot(df['year'],palette='Accent_r')"
   ]
  },
  {
   "cell_type": "code",
   "execution_count": 20,
   "metadata": {},
   "outputs": [],
   "source": [
    "df['current_year']=2021"
   ]
  },
  {
   "cell_type": "code",
   "execution_count": 21,
   "metadata": {},
   "outputs": [],
   "source": [
    "df.year=pd.to_numeric(df['year'])"
   ]
  },
  {
   "cell_type": "code",
   "execution_count": 22,
   "metadata": {},
   "outputs": [],
   "source": [
    "df['no.of_years']=df['current_year']-df['year']"
   ]
  },
  {
   "cell_type": "code",
   "execution_count": 23,
   "metadata": {},
   "outputs": [
    {
     "data": {
      "text/plain": [
       "<AxesSubplot:xlabel='no.of_years', ylabel='count'>"
      ]
     },
     "execution_count": 23,
     "metadata": {},
     "output_type": "execute_result"
    },
    {
     "data": {
      "image/png": "[encoded data removed]",
      "text/plain": [
       "<Figure size 720x432 with 1 Axes>"
      ]
     },
     "metadata": {
      "needs_background": "light"
     },
     "output_type": "display_data"
    }
   ],
   "source": [
    "plt.figure(figsize=(10,6))\n",
    "sns.countplot(df['no.of_years'],palette='flag')"
   ]
  },
  {
   "cell_type": "code",
   "execution_count": 24,
   "metadata": {},
   "outputs": [],
   "source": [
    "df['Mileage']=df['Mileage'].str.replace(' km','')\n",
    "df['Mileage']=df['Mileage'].str.replace(',','')"
   ]
  },
  {
   "cell_type": "code",
   "execution_count": 25,
   "metadata": {
    "scrolled": false
   },
   "outputs": [],
   "source": [
    "df['Mileage']=pd.to_numeric(df['Mileage'])"
   ]
  },
  {
   "cell_type": "code",
   "execution_count": 26,
   "metadata": {},
   "outputs": [
    {
     "data": {
      "text/plain": [
       "<AxesSubplot:xlabel='Mileage', ylabel='Count'>"
      ]
     },
     "execution_count": 26,
     "metadata": {},
     "output_type": "execute_result"
    },
    {
     "data": {
      "image/png": "[encoded data removed]",
      "text/plain": [
       "<Figure size 720x576 with 1 Axes>"
      ]
     },
     "metadata": {
      "needs_background": "light"
     },
     "output_type": "display_data"
    }
   ],
   "source": [
    "plt.figure(figsize=(10,8))\n",
    "sns.histplot(df['Mileage'])"
   ]
  },
  {
   "cell_type": "code",
   "execution_count": 27,
   "metadata": {},
   "outputs": [],
   "source": [
    "df['Price']=df['Price'].str.replace('₹ ','')\n",
    "df['Price']=df['Price'].str.replace(',','')\n",
    "#converting into numeric values\n",
    "df['Price']=pd.to_numeric(df['Price'])"
   ]
  },
  {
   "cell_type": "code",
   "execution_count": 28,
   "metadata": {},
   "outputs": [],
   "source": [
    "df['Price']=round(df['Price']/10000,2)"
   ]
  },
  {
   "cell_type": "code",
   "execution_count": 29,
   "metadata": {},
   "outputs": [
    {
     "data": {
      "text/plain": [
       "<AxesSubplot:xlabel='Price', ylabel='Density'>"
      ]
     },
     "execution_count": 29,
     "metadata": {},
     "output_type": "execute_result"
    },
    {
     "data": {
      "image/png": "[encoded data removed]",
      "text/plain": [
       "<Figure size 720x576 with 1 Axes>"
      ]
     },
     "metadata": {
      "needs_background": "light"
     },
     "output_type": "display_data"
    }
   ],
   "source": [
    "plt.figure(figsize=(10,8))\n",
    "sns.distplot(df['Price'])"
   ]
  },
  {
   "cell_type": "code",
   "execution_count": 30,
   "metadata": {},
   "outputs": [
    {
     "data": {
      "text/plain": [
       "Diesel           263\n",
       "Petrol           228\n",
       "CNG & Hybrids     12\n",
       "Electric           2\n",
       "                   2\n",
       "Name: Fuel, dtype: int64"
      ]
     },
     "execution_count": 30,
     "metadata": {},
     "output_type": "execute_result"
    }
   ],
   "source": [
    "df['Fuel'].value_counts()"
   ]
  },
  {
   "cell_type": "code",
   "execution_count": 31,
   "metadata": {},
   "outputs": [],
   "source": [
    "df['Fuel']=df['Fuel'].map({'Diesel':0,'Petrol':1,'CNG & Hybrids':2,'Electric':3,' ':0})"
   ]
  },
  {
   "cell_type": "code",
   "execution_count": 32,
   "metadata": {},
   "outputs": [
    {
     "data": {
      "text/plain": [
       "<AxesSubplot:xlabel='Fuel', ylabel='count'>"
      ]
     },
     "execution_count": 32,
     "metadata": {},
     "output_type": "execute_result"
    },
    {
     "data": {
      "image/png": "[encoded data removed]",
      "text/plain": [
       "<Figure size 720x432 with 1 Axes>"
      ]
     },
     "metadata": {
      "needs_background": "light"
     },
     "output_type": "display_data"
    }
   ],
   "source": [
    "plt.figure(figsize=(10,6))\n",
    "sns.countplot(df['Fuel'],palette='copper_r')"
   ]
  },
  {
   "cell_type": "code",
   "execution_count": 33,
   "metadata": {},
   "outputs": [],
   "source": [
    "df.drop(['year','current_year'],axis = 1,inplace = True)"
   ]
  },
  {
   "cell_type": "code",
   "execution_count": 34,
   "metadata": {},
   "outputs": [
    {
     "data": {
      "text/html": [
       "<div>\n",
       "<style scoped>\n",
       "    .dataframe tbody tr th:only-of-type {\n",
       "        vertical-align: middle;\n",
       "    }\n",
       "\n",
       "    .dataframe tbody tr th {\n",
       "        vertical-align: top;\n",
       "    }\n",
       "\n",
       "    .dataframe thead th {\n",
       "        text-align: right;\n",
       "    }\n",
       "</style>\n",
       "<table border=\"1\" class=\"dataframe\">\n",
       "  <thead>\n",
       "    <tr style=\"text-align: right;\">\n",
       "      <th></th>\n",
       "      <th>Brand</th>\n",
       "      <th>Model</th>\n",
       "      <th>Owners</th>\n",
       "      <th>Transmission</th>\n",
       "      <th>Variant</th>\n",
       "      <th>Mileage</th>\n",
       "      <th>Fuel</th>\n",
       "      <th>Price</th>\n",
       "      <th>no.of_years</th>\n",
       "    </tr>\n",
       "  </thead>\n",
       "  <tbody>\n",
       "    <tr>\n",
       "      <th>0</th>\n",
       "      <td>Mercedes-Benz</td>\n",
       "      <td>GL-Class</td>\n",
       "      <td>1</td>\n",
       "      <td>0</td>\n",
       "      <td>350 CDI Blue Efficiency</td>\n",
       "      <td>65000.0</td>\n",
       "      <td>0</td>\n",
       "      <td>355.01</td>\n",
       "      <td>6.0</td>\n",
       "    </tr>\n",
       "    <tr>\n",
       "      <th>1</th>\n",
       "      <td>Mercedes-Benz</td>\n",
       "      <td>New C-Class</td>\n",
       "      <td>2</td>\n",
       "      <td>0</td>\n",
       "      <td>220 BlueEfficiency</td>\n",
       "      <td>56100.0</td>\n",
       "      <td>0</td>\n",
       "      <td>118.00</td>\n",
       "      <td>9.0</td>\n",
       "    </tr>\n",
       "    <tr>\n",
       "      <th>3</th>\n",
       "      <td>Hyundai</td>\n",
       "      <td>Accent</td>\n",
       "      <td>3</td>\n",
       "      <td>1</td>\n",
       "      <td>GLE</td>\n",
       "      <td>70000.0</td>\n",
       "      <td>1</td>\n",
       "      <td>7.00</td>\n",
       "      <td>20.0</td>\n",
       "    </tr>\n",
       "    <tr>\n",
       "      <th>4</th>\n",
       "      <td>Maruti Suzuki</td>\n",
       "      <td>Estilo</td>\n",
       "      <td>2</td>\n",
       "      <td>1</td>\n",
       "      <td>LXI</td>\n",
       "      <td>90000.0</td>\n",
       "      <td>1</td>\n",
       "      <td>15.50</td>\n",
       "      <td>11.0</td>\n",
       "    </tr>\n",
       "    <tr>\n",
       "      <th>5</th>\n",
       "      <td>Ford</td>\n",
       "      <td>Ecosport</td>\n",
       "      <td>1</td>\n",
       "      <td>1</td>\n",
       "      <td>2013-2015 1.5 DV5 MT Ambiente</td>\n",
       "      <td>80000.0</td>\n",
       "      <td>0</td>\n",
       "      <td>37.00</td>\n",
       "      <td>8.0</td>\n",
       "    </tr>\n",
       "  </tbody>\n",
       "</table>\n",
       "</div>"
      ],
      "text/plain": [
       "           Brand        Model  Owners  Transmission  \\\n",
       "0  Mercedes-Benz     GL-Class       1             0   \n",
       "1  Mercedes-Benz  New C-Class       2             0   \n",
       "3        Hyundai       Accent       3             1   \n",
       "4  Maruti Suzuki       Estilo       2             1   \n",
       "5           Ford     Ecosport       1             1   \n",
       "\n",
       "                         Variant  Mileage  Fuel   Price  no.of_years  \n",
       "0        350 CDI Blue Efficiency  65000.0     0  355.01          6.0  \n",
       "1             220 BlueEfficiency  56100.0     0  118.00          9.0  \n",
       "3                            GLE  70000.0     1    7.00         20.0  \n",
       "4                            LXI  90000.0     1   15.50         11.0  \n",
       "5  2013-2015 1.5 DV5 MT Ambiente  80000.0     0   37.00          8.0  "
      ]
     },
     "execution_count": 34,
     "metadata": {},
     "output_type": "execute_result"
    }
   ],
   "source": [
    "df.head()"
   ]
  },
  {
   "cell_type": "code",
   "execution_count": 35,
   "metadata": {},
   "outputs": [
    {
     "data": {
      "text/html": [
       "<div>\n",
       "<style scoped>\n",
       "    .dataframe tbody tr th:only-of-type {\n",
       "        vertical-align: middle;\n",
       "    }\n",
       "\n",
       "    .dataframe tbody tr th {\n",
       "        vertical-align: top;\n",
       "    }\n",
       "\n",
       "    .dataframe thead th {\n",
       "        text-align: right;\n",
       "    }\n",
       "</style>\n",
       "<table border=\"1\" class=\"dataframe\">\n",
       "  <thead>\n",
       "    <tr style=\"text-align: right;\">\n",
       "      <th></th>\n",
       "      <th>Owners</th>\n",
       "      <th>Transmission</th>\n",
       "      <th>Mileage</th>\n",
       "      <th>Fuel</th>\n",
       "      <th>Price</th>\n",
       "      <th>no.of_years</th>\n",
       "    </tr>\n",
       "  </thead>\n",
       "  <tbody>\n",
       "    <tr>\n",
       "      <th>count</th>\n",
       "      <td>507.000000</td>\n",
       "      <td>507.000000</td>\n",
       "      <td>507.000000</td>\n",
       "      <td>507.000000</td>\n",
       "      <td>507.000000</td>\n",
       "      <td>507.000000</td>\n",
       "    </tr>\n",
       "    <tr>\n",
       "      <th>mean</th>\n",
       "      <td>1.380671</td>\n",
       "      <td>0.775148</td>\n",
       "      <td>61198.414201</td>\n",
       "      <td>0.508876</td>\n",
       "      <td>148.413097</td>\n",
       "      <td>6.715976</td>\n",
       "    </tr>\n",
       "    <tr>\n",
       "      <th>std</th>\n",
       "      <td>0.585616</td>\n",
       "      <td>0.417897</td>\n",
       "      <td>38742.821570</td>\n",
       "      <td>0.567064</td>\n",
       "      <td>495.214617</td>\n",
       "      <td>3.615705</td>\n",
       "    </tr>\n",
       "    <tr>\n",
       "      <th>min</th>\n",
       "      <td>1.000000</td>\n",
       "      <td>0.000000</td>\n",
       "      <td>0.000000</td>\n",
       "      <td>0.000000</td>\n",
       "      <td>1.500000</td>\n",
       "      <td>0.000000</td>\n",
       "    </tr>\n",
       "    <tr>\n",
       "      <th>25%</th>\n",
       "      <td>1.000000</td>\n",
       "      <td>1.000000</td>\n",
       "      <td>37333.000000</td>\n",
       "      <td>0.000000</td>\n",
       "      <td>34.400000</td>\n",
       "      <td>4.000000</td>\n",
       "    </tr>\n",
       "    <tr>\n",
       "      <th>50%</th>\n",
       "      <td>1.000000</td>\n",
       "      <td>1.000000</td>\n",
       "      <td>60000.000000</td>\n",
       "      <td>0.000000</td>\n",
       "      <td>52.500000</td>\n",
       "      <td>6.000000</td>\n",
       "    </tr>\n",
       "    <tr>\n",
       "      <th>75%</th>\n",
       "      <td>2.000000</td>\n",
       "      <td>1.000000</td>\n",
       "      <td>78490.500000</td>\n",
       "      <td>1.000000</td>\n",
       "      <td>89.950000</td>\n",
       "      <td>9.000000</td>\n",
       "    </tr>\n",
       "    <tr>\n",
       "      <th>max</th>\n",
       "      <td>4.000000</td>\n",
       "      <td>1.000000</td>\n",
       "      <td>450000.000000</td>\n",
       "      <td>3.000000</td>\n",
       "      <td>7000.000000</td>\n",
       "      <td>20.000000</td>\n",
       "    </tr>\n",
       "  </tbody>\n",
       "</table>\n",
       "</div>"
      ],
      "text/plain": [
       "           Owners  Transmission        Mileage        Fuel        Price  \\\n",
       "count  507.000000    507.000000     507.000000  507.000000   507.000000   \n",
       "mean     1.380671      0.775148   61198.414201    0.508876   148.413097   \n",
       "std      0.585616      0.417897   38742.821570    0.567064   495.214617   \n",
       "min      1.000000      0.000000       0.000000    0.000000     1.500000   \n",
       "25%      1.000000      1.000000   37333.000000    0.000000    34.400000   \n",
       "50%      1.000000      1.000000   60000.000000    0.000000    52.500000   \n",
       "75%      2.000000      1.000000   78490.500000    1.000000    89.950000   \n",
       "max      4.000000      1.000000  450000.000000    3.000000  7000.000000   \n",
       "\n",
       "       no.of_years  \n",
       "count   507.000000  \n",
       "mean      6.715976  \n",
       "std       3.615705  \n",
       "min       0.000000  \n",
       "25%       4.000000  \n",
       "50%       6.000000  \n",
       "75%       9.000000  \n",
       "max      20.000000  "
      ]
     },
     "execution_count": 35,
     "metadata": {},
     "output_type": "execute_result"
    }
   ],
   "source": [
    "df.describe()"
   ]
  },
  {
   "cell_type": "code",
   "execution_count": 36,
   "metadata": {},
   "outputs": [
    {
     "data": {
      "text/html": [
       "<div>\n",
       "<style scoped>\n",
       "    .dataframe tbody tr th:only-of-type {\n",
       "        vertical-align: middle;\n",
       "    }\n",
       "\n",
       "    .dataframe tbody tr th {\n",
       "        vertical-align: top;\n",
       "    }\n",
       "\n",
       "    .dataframe thead th {\n",
       "        text-align: right;\n",
       "    }\n",
       "</style>\n",
       "<table border=\"1\" class=\"dataframe\">\n",
       "  <thead>\n",
       "    <tr style=\"text-align: right;\">\n",
       "      <th></th>\n",
       "      <th>Owners</th>\n",
       "      <th>Transmission</th>\n",
       "      <th>Mileage</th>\n",
       "      <th>Fuel</th>\n",
       "      <th>Price</th>\n",
       "      <th>no.of_years</th>\n",
       "    </tr>\n",
       "  </thead>\n",
       "  <tbody>\n",
       "    <tr>\n",
       "      <th>Owners</th>\n",
       "      <td>1.000000</td>\n",
       "      <td>-0.053327</td>\n",
       "      <td>0.184891</td>\n",
       "      <td>0.010635</td>\n",
       "      <td>-0.014944</td>\n",
       "      <td>0.440369</td>\n",
       "    </tr>\n",
       "    <tr>\n",
       "      <th>Transmission</th>\n",
       "      <td>-0.053327</td>\n",
       "      <td>1.000000</td>\n",
       "      <td>0.128920</td>\n",
       "      <td>0.041797</td>\n",
       "      <td>-0.360546</td>\n",
       "      <td>0.092368</td>\n",
       "    </tr>\n",
       "    <tr>\n",
       "      <th>Mileage</th>\n",
       "      <td>0.184891</td>\n",
       "      <td>0.128920</td>\n",
       "      <td>1.000000</td>\n",
       "      <td>-0.302905</td>\n",
       "      <td>-0.199082</td>\n",
       "      <td>0.420681</td>\n",
       "    </tr>\n",
       "    <tr>\n",
       "      <th>Fuel</th>\n",
       "      <td>0.010635</td>\n",
       "      <td>0.041797</td>\n",
       "      <td>-0.302905</td>\n",
       "      <td>1.000000</td>\n",
       "      <td>0.058316</td>\n",
       "      <td>0.033040</td>\n",
       "    </tr>\n",
       "    <tr>\n",
       "      <th>Price</th>\n",
       "      <td>-0.014944</td>\n",
       "      <td>-0.360546</td>\n",
       "      <td>-0.199082</td>\n",
       "      <td>0.058316</td>\n",
       "      <td>1.000000</td>\n",
       "      <td>-0.136546</td>\n",
       "    </tr>\n",
       "    <tr>\n",
       "      <th>no.of_years</th>\n",
       "      <td>0.440369</td>\n",
       "      <td>0.092368</td>\n",
       "      <td>0.420681</td>\n",
       "      <td>0.033040</td>\n",
       "      <td>-0.136546</td>\n",
       "      <td>1.000000</td>\n",
       "    </tr>\n",
       "  </tbody>\n",
       "</table>\n",
       "</div>"
      ],
      "text/plain": [
       "                Owners  Transmission   Mileage      Fuel     Price  \\\n",
       "Owners        1.000000     -0.053327  0.184891  0.010635 -0.014944   \n",
       "Transmission -0.053327      1.000000  0.128920  0.041797 -0.360546   \n",
       "Mileage       0.184891      0.128920  1.000000 -0.302905 -0.199082   \n",
       "Fuel          0.010635      0.041797 -0.302905  1.000000  0.058316   \n",
       "Price        -0.014944     -0.360546 -0.199082  0.058316  1.000000   \n",
       "no.of_years   0.440369      0.092368  0.420681  0.033040 -0.136546   \n",
       "\n",
       "              no.of_years  \n",
       "Owners           0.440369  \n",
       "Transmission     0.092368  \n",
       "Mileage          0.420681  \n",
       "Fuel             0.033040  \n",
       "Price           -0.136546  \n",
       "no.of_years      1.000000  "
      ]
     },
     "execution_count": 36,
     "metadata": {},
     "output_type": "execute_result"
    }
   ],
   "source": [
    "df_corr = df.corr()\n",
    "index = df_corr.index\n",
    "df_corr"
   ]
  },
  {
   "cell_type": "code",
   "execution_count": 37,
   "metadata": {},
   "outputs": [
    {
     "data": {
      "text/plain": [
       "<AxesSubplot:>"
      ]
     },
     "execution_count": 37,
     "metadata": {},
     "output_type": "execute_result"
    },
    {
     "data": {
      "image/png": "[encoded data removed]",
      "text/plain": [
       "<Figure size 864x432 with 2 Axes>"
      ]
     },
     "metadata": {
      "needs_background": "light"
     },
     "output_type": "display_data"
    }
   ],
   "source": [
    "plt.figure(figsize = (12,6))\n",
    "sns.heatmap(df[index].corr(),annot = True,cmap = 'magma')"
   ]
  },
  {
   "cell_type": "code",
   "execution_count": 38,
   "metadata": {},
   "outputs": [
    {
     "data": {
      "text/plain": [
       "Owners          1.391588\n",
       "Transmission   -1.322036\n",
       "Mileage         2.938060\n",
       "Fuel            0.683243\n",
       "Price           8.661336\n",
       "no.of_years     0.550882\n",
       "dtype: float64"
      ]
     },
     "execution_count": 38,
     "metadata": {},
     "output_type": "execute_result"
    }
   ],
   "source": [
    "df.skew()"
   ]
  },
  {
   "cell_type": "code",
   "execution_count": 39,
   "metadata": {},
   "outputs": [
    {
     "data": {
      "text/html": [
       "<div>\n",
       "<style scoped>\n",
       "    .dataframe tbody tr th:only-of-type {\n",
       "        vertical-align: middle;\n",
       "    }\n",
       "\n",
       "    .dataframe tbody tr th {\n",
       "        vertical-align: top;\n",
       "    }\n",
       "\n",
       "    .dataframe thead th {\n",
       "        text-align: right;\n",
       "    }\n",
       "</style>\n",
       "<table border=\"1\" class=\"dataframe\">\n",
       "  <thead>\n",
       "    <tr style=\"text-align: right;\">\n",
       "      <th></th>\n",
       "      <th>Brand</th>\n",
       "      <th>Model</th>\n",
       "      <th>Owners</th>\n",
       "      <th>Transmission</th>\n",
       "      <th>Variant</th>\n",
       "      <th>Mileage</th>\n",
       "      <th>Fuel</th>\n",
       "      <th>Price</th>\n",
       "      <th>no.of_years</th>\n",
       "    </tr>\n",
       "  </thead>\n",
       "  <tbody>\n",
       "    <tr>\n",
       "      <th>0</th>\n",
       "      <td>Mercedes-Benz</td>\n",
       "      <td>GL-Class</td>\n",
       "      <td>1</td>\n",
       "      <td>0</td>\n",
       "      <td>350 CDI Blue Efficiency</td>\n",
       "      <td>65000.0</td>\n",
       "      <td>0</td>\n",
       "      <td>355.01</td>\n",
       "      <td>6.0</td>\n",
       "    </tr>\n",
       "    <tr>\n",
       "      <th>1</th>\n",
       "      <td>Mercedes-Benz</td>\n",
       "      <td>New C-Class</td>\n",
       "      <td>2</td>\n",
       "      <td>0</td>\n",
       "      <td>220 BlueEfficiency</td>\n",
       "      <td>56100.0</td>\n",
       "      <td>0</td>\n",
       "      <td>118.00</td>\n",
       "      <td>9.0</td>\n",
       "    </tr>\n",
       "    <tr>\n",
       "      <th>3</th>\n",
       "      <td>Hyundai</td>\n",
       "      <td>Accent</td>\n",
       "      <td>3</td>\n",
       "      <td>1</td>\n",
       "      <td>GLE</td>\n",
       "      <td>70000.0</td>\n",
       "      <td>1</td>\n",
       "      <td>7.00</td>\n",
       "      <td>20.0</td>\n",
       "    </tr>\n",
       "    <tr>\n",
       "      <th>4</th>\n",
       "      <td>Maruti Suzuki</td>\n",
       "      <td>Estilo</td>\n",
       "      <td>2</td>\n",
       "      <td>1</td>\n",
       "      <td>LXI</td>\n",
       "      <td>90000.0</td>\n",
       "      <td>1</td>\n",
       "      <td>15.50</td>\n",
       "      <td>11.0</td>\n",
       "    </tr>\n",
       "    <tr>\n",
       "      <th>5</th>\n",
       "      <td>Ford</td>\n",
       "      <td>Ecosport</td>\n",
       "      <td>1</td>\n",
       "      <td>1</td>\n",
       "      <td>2013-2015 1.5 DV5 MT Ambiente</td>\n",
       "      <td>80000.0</td>\n",
       "      <td>0</td>\n",
       "      <td>37.00</td>\n",
       "      <td>8.0</td>\n",
       "    </tr>\n",
       "  </tbody>\n",
       "</table>\n",
       "</div>"
      ],
      "text/plain": [
       "           Brand        Model  Owners  Transmission  \\\n",
       "0  Mercedes-Benz     GL-Class       1             0   \n",
       "1  Mercedes-Benz  New C-Class       2             0   \n",
       "3        Hyundai       Accent       3             1   \n",
       "4  Maruti Suzuki       Estilo       2             1   \n",
       "5           Ford     Ecosport       1             1   \n",
       "\n",
       "                         Variant  Mileage  Fuel   Price  no.of_years  \n",
       "0        350 CDI Blue Efficiency  65000.0     0  355.01          6.0  \n",
       "1             220 BlueEfficiency  56100.0     0  118.00          9.0  \n",
       "3                            GLE  70000.0     1    7.00         20.0  \n",
       "4                            LXI  90000.0     1   15.50         11.0  \n",
       "5  2013-2015 1.5 DV5 MT Ambiente  80000.0     0   37.00          8.0  "
      ]
     },
     "execution_count": 39,
     "metadata": {},
     "output_type": "execute_result"
    }
   ],
   "source": [
    "df.head()"
   ]
  },
  {
   "cell_type": "code",
   "execution_count": 40,
   "metadata": {},
   "outputs": [],
   "source": [
    "df.drop(['Brand','Model','Variant'],axis = 1,inplace = True)"
   ]
  },
  {
   "cell_type": "code",
   "execution_count": 41,
   "metadata": {},
   "outputs": [
    {
     "data": {
      "text/html": [
       "<div>\n",
       "<style scoped>\n",
       "    .dataframe tbody tr th:only-of-type {\n",
       "        vertical-align: middle;\n",
       "    }\n",
       "\n",
       "    .dataframe tbody tr th {\n",
       "        vertical-align: top;\n",
       "    }\n",
       "\n",
       "    .dataframe thead th {\n",
       "        text-align: right;\n",
       "    }\n",
       "</style>\n",
       "<table border=\"1\" class=\"dataframe\">\n",
       "  <thead>\n",
       "    <tr style=\"text-align: right;\">\n",
       "      <th></th>\n",
       "      <th>Transmission</th>\n",
       "      <th>Mileage</th>\n",
       "      <th>Price</th>\n",
       "      <th>no.of_years</th>\n",
       "      <th>Owners_2</th>\n",
       "      <th>Owners_3</th>\n",
       "      <th>Owners_4</th>\n",
       "      <th>Fuel_1</th>\n",
       "      <th>Fuel_2</th>\n",
       "      <th>Fuel_3</th>\n",
       "    </tr>\n",
       "  </thead>\n",
       "  <tbody>\n",
       "    <tr>\n",
       "      <th>0</th>\n",
       "      <td>0</td>\n",
       "      <td>65000.0</td>\n",
       "      <td>355.01</td>\n",
       "      <td>6.0</td>\n",
       "      <td>0</td>\n",
       "      <td>0</td>\n",
       "      <td>0</td>\n",
       "      <td>0</td>\n",
       "      <td>0</td>\n",
       "      <td>0</td>\n",
       "    </tr>\n",
       "    <tr>\n",
       "      <th>1</th>\n",
       "      <td>0</td>\n",
       "      <td>56100.0</td>\n",
       "      <td>118.00</td>\n",
       "      <td>9.0</td>\n",
       "      <td>1</td>\n",
       "      <td>0</td>\n",
       "      <td>0</td>\n",
       "      <td>0</td>\n",
       "      <td>0</td>\n",
       "      <td>0</td>\n",
       "    </tr>\n",
       "    <tr>\n",
       "      <th>3</th>\n",
       "      <td>1</td>\n",
       "      <td>70000.0</td>\n",
       "      <td>7.00</td>\n",
       "      <td>20.0</td>\n",
       "      <td>0</td>\n",
       "      <td>1</td>\n",
       "      <td>0</td>\n",
       "      <td>1</td>\n",
       "      <td>0</td>\n",
       "      <td>0</td>\n",
       "    </tr>\n",
       "    <tr>\n",
       "      <th>4</th>\n",
       "      <td>1</td>\n",
       "      <td>90000.0</td>\n",
       "      <td>15.50</td>\n",
       "      <td>11.0</td>\n",
       "      <td>1</td>\n",
       "      <td>0</td>\n",
       "      <td>0</td>\n",
       "      <td>1</td>\n",
       "      <td>0</td>\n",
       "      <td>0</td>\n",
       "    </tr>\n",
       "    <tr>\n",
       "      <th>5</th>\n",
       "      <td>1</td>\n",
       "      <td>80000.0</td>\n",
       "      <td>37.00</td>\n",
       "      <td>8.0</td>\n",
       "      <td>0</td>\n",
       "      <td>0</td>\n",
       "      <td>0</td>\n",
       "      <td>0</td>\n",
       "      <td>0</td>\n",
       "      <td>0</td>\n",
       "    </tr>\n",
       "    <tr>\n",
       "      <th>...</th>\n",
       "      <td>...</td>\n",
       "      <td>...</td>\n",
       "      <td>...</td>\n",
       "      <td>...</td>\n",
       "      <td>...</td>\n",
       "      <td>...</td>\n",
       "      <td>...</td>\n",
       "      <td>...</td>\n",
       "      <td>...</td>\n",
       "      <td>...</td>\n",
       "    </tr>\n",
       "    <tr>\n",
       "      <th>535</th>\n",
       "      <td>1</td>\n",
       "      <td>39000.0</td>\n",
       "      <td>102.50</td>\n",
       "      <td>3.0</td>\n",
       "      <td>0</td>\n",
       "      <td>0</td>\n",
       "      <td>0</td>\n",
       "      <td>0</td>\n",
       "      <td>0</td>\n",
       "      <td>0</td>\n",
       "    </tr>\n",
       "    <tr>\n",
       "      <th>536</th>\n",
       "      <td>0</td>\n",
       "      <td>83000.0</td>\n",
       "      <td>49.90</td>\n",
       "      <td>9.0</td>\n",
       "      <td>0</td>\n",
       "      <td>0</td>\n",
       "      <td>0</td>\n",
       "      <td>0</td>\n",
       "      <td>0</td>\n",
       "      <td>0</td>\n",
       "    </tr>\n",
       "    <tr>\n",
       "      <th>537</th>\n",
       "      <td>0</td>\n",
       "      <td>43000.0</td>\n",
       "      <td>59.80</td>\n",
       "      <td>4.0</td>\n",
       "      <td>0</td>\n",
       "      <td>0</td>\n",
       "      <td>0</td>\n",
       "      <td>1</td>\n",
       "      <td>0</td>\n",
       "      <td>0</td>\n",
       "    </tr>\n",
       "    <tr>\n",
       "      <th>538</th>\n",
       "      <td>0</td>\n",
       "      <td>38000.0</td>\n",
       "      <td>26.50</td>\n",
       "      <td>11.0</td>\n",
       "      <td>0</td>\n",
       "      <td>0</td>\n",
       "      <td>0</td>\n",
       "      <td>1</td>\n",
       "      <td>0</td>\n",
       "      <td>0</td>\n",
       "    </tr>\n",
       "    <tr>\n",
       "      <th>539</th>\n",
       "      <td>1</td>\n",
       "      <td>51000.0</td>\n",
       "      <td>11.00</td>\n",
       "      <td>14.0</td>\n",
       "      <td>0</td>\n",
       "      <td>0</td>\n",
       "      <td>0</td>\n",
       "      <td>1</td>\n",
       "      <td>0</td>\n",
       "      <td>0</td>\n",
       "    </tr>\n",
       "  </tbody>\n",
       "</table>\n",
       "<p>507 rows × 10 columns</p>\n",
       "</div>"
      ],
      "text/plain": [
       "     Transmission  Mileage   Price  no.of_years  Owners_2  Owners_3  Owners_4  \\\n",
       "0               0  65000.0  355.01          6.0         0         0         0   \n",
       "1               0  56100.0  118.00          9.0         1         0         0   \n",
       "3               1  70000.0    7.00         20.0         0         1         0   \n",
       "4               1  90000.0   15.50         11.0         1         0         0   \n",
       "5               1  80000.0   37.00          8.0         0         0         0   \n",
       "..            ...      ...     ...          ...       ...       ...       ...   \n",
       "535             1  39000.0  102.50          3.0         0         0         0   \n",
       "536             0  83000.0   49.90          9.0         0         0         0   \n",
       "537             0  43000.0   59.80          4.0         0         0         0   \n",
       "538             0  38000.0   26.50         11.0         0         0         0   \n",
       "539             1  51000.0   11.00         14.0         0         0         0   \n",
       "\n",
       "     Fuel_1  Fuel_2  Fuel_3  \n",
       "0         0       0       0  \n",
       "1         0       0       0  \n",
       "3         1       0       0  \n",
       "4         1       0       0  \n",
       "5         0       0       0  \n",
       "..      ...     ...     ...  \n",
       "535       0       0       0  \n",
       "536       0       0       0  \n",
       "537       1       0       0  \n",
       "538       1       0       0  \n",
       "539       1       0       0  \n",
       "\n",
       "[507 rows x 10 columns]"
      ]
     },
     "execution_count": 41,
     "metadata": {},
     "output_type": "execute_result"
    }
   ],
   "source": [
    "df=pd.get_dummies(df, columns=['Owners','Fuel'], drop_first=True)\n",
    "df"
   ]
  },
  {
   "cell_type": "code",
   "execution_count": null,
   "metadata": {},
   "outputs": [],
   "source": []
  },
  {
   "cell_type": "code",
   "execution_count": 42,
   "metadata": {},
   "outputs": [],
   "source": [
    "x = df.drop(['Price'],axis = 1)\n",
    "y = df['Price']"
   ]
  },
  {
   "cell_type": "code",
   "execution_count": 43,
   "metadata": {},
   "outputs": [
    {
     "data": {
      "text/html": [
       "<div>\n",
       "<style scoped>\n",
       "    .dataframe tbody tr th:only-of-type {\n",
       "        vertical-align: middle;\n",
       "    }\n",
       "\n",
       "    .dataframe tbody tr th {\n",
       "        vertical-align: top;\n",
       "    }\n",
       "\n",
       "    .dataframe thead th {\n",
       "        text-align: right;\n",
       "    }\n",
       "</style>\n",
       "<table border=\"1\" class=\"dataframe\">\n",
       "  <thead>\n",
       "    <tr style=\"text-align: right;\">\n",
       "      <th></th>\n",
       "      <th>Transmission</th>\n",
       "      <th>Mileage</th>\n",
       "      <th>no.of_years</th>\n",
       "      <th>Owners_2</th>\n",
       "      <th>Owners_3</th>\n",
       "      <th>Owners_4</th>\n",
       "      <th>Fuel_1</th>\n",
       "      <th>Fuel_2</th>\n",
       "      <th>Fuel_3</th>\n",
       "    </tr>\n",
       "  </thead>\n",
       "  <tbody>\n",
       "    <tr>\n",
       "      <th>0</th>\n",
       "      <td>0</td>\n",
       "      <td>65000.0</td>\n",
       "      <td>6.0</td>\n",
       "      <td>0</td>\n",
       "      <td>0</td>\n",
       "      <td>0</td>\n",
       "      <td>0</td>\n",
       "      <td>0</td>\n",
       "      <td>0</td>\n",
       "    </tr>\n",
       "    <tr>\n",
       "      <th>1</th>\n",
       "      <td>0</td>\n",
       "      <td>56100.0</td>\n",
       "      <td>9.0</td>\n",
       "      <td>1</td>\n",
       "      <td>0</td>\n",
       "      <td>0</td>\n",
       "      <td>0</td>\n",
       "      <td>0</td>\n",
       "      <td>0</td>\n",
       "    </tr>\n",
       "    <tr>\n",
       "      <th>3</th>\n",
       "      <td>1</td>\n",
       "      <td>70000.0</td>\n",
       "      <td>20.0</td>\n",
       "      <td>0</td>\n",
       "      <td>1</td>\n",
       "      <td>0</td>\n",
       "      <td>1</td>\n",
       "      <td>0</td>\n",
       "      <td>0</td>\n",
       "    </tr>\n",
       "    <tr>\n",
       "      <th>4</th>\n",
       "      <td>1</td>\n",
       "      <td>90000.0</td>\n",
       "      <td>11.0</td>\n",
       "      <td>1</td>\n",
       "      <td>0</td>\n",
       "      <td>0</td>\n",
       "      <td>1</td>\n",
       "      <td>0</td>\n",
       "      <td>0</td>\n",
       "    </tr>\n",
       "    <tr>\n",
       "      <th>5</th>\n",
       "      <td>1</td>\n",
       "      <td>80000.0</td>\n",
       "      <td>8.0</td>\n",
       "      <td>0</td>\n",
       "      <td>0</td>\n",
       "      <td>0</td>\n",
       "      <td>0</td>\n",
       "      <td>0</td>\n",
       "      <td>0</td>\n",
       "    </tr>\n",
       "    <tr>\n",
       "      <th>...</th>\n",
       "      <td>...</td>\n",
       "      <td>...</td>\n",
       "      <td>...</td>\n",
       "      <td>...</td>\n",
       "      <td>...</td>\n",
       "      <td>...</td>\n",
       "      <td>...</td>\n",
       "      <td>...</td>\n",
       "      <td>...</td>\n",
       "    </tr>\n",
       "    <tr>\n",
       "      <th>535</th>\n",
       "      <td>1</td>\n",
       "      <td>39000.0</td>\n",
       "      <td>3.0</td>\n",
       "      <td>0</td>\n",
       "      <td>0</td>\n",
       "      <td>0</td>\n",
       "      <td>0</td>\n",
       "      <td>0</td>\n",
       "      <td>0</td>\n",
       "    </tr>\n",
       "    <tr>\n",
       "      <th>536</th>\n",
       "      <td>0</td>\n",
       "      <td>83000.0</td>\n",
       "      <td>9.0</td>\n",
       "      <td>0</td>\n",
       "      <td>0</td>\n",
       "      <td>0</td>\n",
       "      <td>0</td>\n",
       "      <td>0</td>\n",
       "      <td>0</td>\n",
       "    </tr>\n",
       "    <tr>\n",
       "      <th>537</th>\n",
       "      <td>0</td>\n",
       "      <td>43000.0</td>\n",
       "      <td>4.0</td>\n",
       "      <td>0</td>\n",
       "      <td>0</td>\n",
       "      <td>0</td>\n",
       "      <td>1</td>\n",
       "      <td>0</td>\n",
       "      <td>0</td>\n",
       "    </tr>\n",
       "    <tr>\n",
       "      <th>538</th>\n",
       "      <td>0</td>\n",
       "      <td>38000.0</td>\n",
       "      <td>11.0</td>\n",
       "      <td>0</td>\n",
       "      <td>0</td>\n",
       "      <td>0</td>\n",
       "      <td>1</td>\n",
       "      <td>0</td>\n",
       "      <td>0</td>\n",
       "    </tr>\n",
       "    <tr>\n",
       "      <th>539</th>\n",
       "      <td>1</td>\n",
       "      <td>51000.0</td>\n",
       "      <td>14.0</td>\n",
       "      <td>0</td>\n",
       "      <td>0</td>\n",
       "      <td>0</td>\n",
       "      <td>1</td>\n",
       "      <td>0</td>\n",
       "      <td>0</td>\n",
       "    </tr>\n",
       "  </tbody>\n",
       "</table>\n",
       "<p>507 rows × 9 columns</p>\n",
       "</div>"
      ],
      "text/plain": [
       "     Transmission  Mileage  no.of_years  Owners_2  Owners_3  Owners_4  Fuel_1  \\\n",
       "0               0  65000.0          6.0         0         0         0       0   \n",
       "1               0  56100.0          9.0         1         0         0       0   \n",
       "3               1  70000.0         20.0         0         1         0       1   \n",
       "4               1  90000.0         11.0         1         0         0       1   \n",
       "5               1  80000.0          8.0         0         0         0       0   \n",
       "..            ...      ...          ...       ...       ...       ...     ...   \n",
       "535             1  39000.0          3.0         0         0         0       0   \n",
       "536             0  83000.0          9.0         0         0         0       0   \n",
       "537             0  43000.0          4.0         0         0         0       1   \n",
       "538             0  38000.0         11.0         0         0         0       1   \n",
       "539             1  51000.0         14.0         0         0         0       1   \n",
       "\n",
       "     Fuel_2  Fuel_3  \n",
       "0         0       0  \n",
       "1         0       0  \n",
       "3         0       0  \n",
       "4         0       0  \n",
       "5         0       0  \n",
       "..      ...     ...  \n",
       "535       0       0  \n",
       "536       0       0  \n",
       "537       0       0  \n",
       "538       0       0  \n",
       "539       0       0  \n",
       "\n",
       "[507 rows x 9 columns]"
      ]
     },
     "execution_count": 43,
     "metadata": {},
     "output_type": "execute_result"
    }
   ],
   "source": [
    "x"
   ]
  },
  {
   "cell_type": "code",
   "execution_count": 44,
   "metadata": {},
   "outputs": [
    {
     "data": {
      "text/plain": [
       "0      355.01\n",
       "1      118.00\n",
       "3        7.00\n",
       "4       15.50\n",
       "5       37.00\n",
       "        ...  \n",
       "535    102.50\n",
       "536     49.90\n",
       "537     59.80\n",
       "538     26.50\n",
       "539     11.00\n",
       "Name: Price, Length: 507, dtype: float64"
      ]
     },
     "execution_count": 44,
     "metadata": {},
     "output_type": "execute_result"
    }
   ],
   "source": [
    "y"
   ]
  },
  {
   "cell_type": "markdown",
   "metadata": {},
   "source": [
    "### Finding best random state"
   ]
  },
  {
   "cell_type": "code",
   "execution_count": 45,
   "metadata": {},
   "outputs": [
    {
     "name": "stdout",
     "output_type": "stream",
     "text": [
      "Best r2_score is 0.27820776690010773 on random_state 50\n"
     ]
    }
   ],
   "source": [
    "maxAccu=0\n",
    "maxRS=0\n",
    "for i in range(1,100):\n",
    "    x_train,x_test,y_train,y_test=train_test_split(x,y,test_size=0.25,random_state=i)\n",
    "    lr=LinearRegression()\n",
    "    lr.fit(x_train,y_train)\n",
    "    pred=lr.predict(x_test)\n",
    "    acc=r2_score(y_test,pred)\n",
    "    if acc>maxAccu:\n",
    "        maxAccu=acc\n",
    "        maxRS=i\n",
    "print(\"Best r2_score is\",maxAccu,\"on random_state\", maxRS)"
   ]
  },
  {
   "cell_type": "markdown",
   "metadata": {},
   "source": [
    "### train_test_split"
   ]
  },
  {
   "cell_type": "code",
   "execution_count": 46,
   "metadata": {},
   "outputs": [],
   "source": [
    "x_train,x_test,y_train,y_test=train_test_split(x,y,test_size=0.25,random_state=50)"
   ]
  },
  {
   "cell_type": "code",
   "execution_count": 47,
   "metadata": {},
   "outputs": [
    {
     "data": {
      "text/plain": [
       "(380, 9)"
      ]
     },
     "execution_count": 47,
     "metadata": {},
     "output_type": "execute_result"
    }
   ],
   "source": [
    "x_train.shape"
   ]
  },
  {
   "cell_type": "code",
   "execution_count": 48,
   "metadata": {},
   "outputs": [
    {
     "data": {
      "text/plain": [
       "(127, 9)"
      ]
     },
     "execution_count": 48,
     "metadata": {},
     "output_type": "execute_result"
    }
   ],
   "source": [
    "x_test.shape"
   ]
  },
  {
   "cell_type": "code",
   "execution_count": 49,
   "metadata": {},
   "outputs": [
    {
     "data": {
      "text/plain": [
       "(380,)"
      ]
     },
     "execution_count": 49,
     "metadata": {},
     "output_type": "execute_result"
    }
   ],
   "source": [
    "y_train.shape"
   ]
  },
  {
   "cell_type": "code",
   "execution_count": 50,
   "metadata": {},
   "outputs": [
    {
     "data": {
      "text/plain": [
       "(127,)"
      ]
     },
     "execution_count": 50,
     "metadata": {},
     "output_type": "execute_result"
    }
   ],
   "source": [
    "y_test.shape"
   ]
  },
  {
   "cell_type": "code",
   "execution_count": null,
   "metadata": {},
   "outputs": [],
   "source": []
  },
  {
   "cell_type": "markdown",
   "metadata": {},
   "source": [
    "### Machine Learning Algorithms"
   ]
  },
  {
   "cell_type": "code",
   "execution_count": 51,
   "metadata": {},
   "outputs": [],
   "source": [
    "models=[LinearRegression(),Lasso(),Ridge(),\n",
    "        DecisionTreeRegressor(),GradientBoostingRegressor(),\n",
    "        RandomForestRegressor(),KNeighborsRegressor()]"
   ]
  },
  {
   "cell_type": "code",
   "execution_count": 52,
   "metadata": {},
   "outputs": [
    {
     "name": "stdout",
     "output_type": "stream",
     "text": [
      "model: LinearRegression()\n",
      "r2_score: 0.27820776690010773\n",
      "mean_absolute_error: 154.04586015516213\n",
      "mean_squared_error: 140413.54533753125\n",
      "--------------------------------------------------\n",
      "model: Lasso()\n",
      "r2_score: 0.2761308571465445\n",
      "mean_absolute_error: 152.3606228835712\n",
      "mean_squared_error: 140817.57609384938\n",
      "--------------------------------------------------\n",
      "model: Ridge()\n",
      "r2_score: 0.27676628340250664\n",
      "mean_absolute_error: 153.57387235445012\n",
      "mean_squared_error: 140693.9637171728\n",
      "--------------------------------------------------\n",
      "model: DecisionTreeRegressor()\n",
      "r2_score: 0.18574483073307135\n",
      "mean_absolute_error: 122.10818897637795\n",
      "mean_squared_error: 158400.78333228346\n",
      "--------------------------------------------------\n",
      "model: GradientBoostingRegressor()\n",
      "r2_score: -0.18187337402123016\n",
      "mean_absolute_error: 129.26467560956178\n",
      "mean_squared_error: 229915.2345733045\n",
      "--------------------------------------------------\n",
      "model: RandomForestRegressor()\n",
      "r2_score: 0.3519859163970861\n",
      "mean_absolute_error: 105.23841501687289\n",
      "mean_squared_error: 126061.1443774624\n",
      "--------------------------------------------------\n",
      "model: KNeighborsRegressor()\n",
      "r2_score: 0.2584760808732742\n",
      "mean_absolute_error: 119.41346456692914\n",
      "mean_squared_error: 144252.04049370077\n",
      "--------------------------------------------------\n"
     ]
    }
   ],
   "source": [
    "for m in models:\n",
    "    print('model:',m)\n",
    "    m.fit(x_train,y_train)\n",
    "    pred=m.predict(x_test)\n",
    "    print(\"r2_score:\",r2_score(y_test,pred))\n",
    "    print('mean_absolute_error:',mean_absolute_error(y_test,pred))\n",
    "    print('mean_squared_error:',mean_squared_error(y_test,pred))\n",
    "    print('-'*50)"
   ]
  },
  {
   "cell_type": "markdown",
   "metadata": {},
   "source": [
    "### Hyper parameter tuning"
   ]
  },
  {
   "cell_type": "code",
   "execution_count": 57,
   "metadata": {},
   "outputs": [
    {
     "name": "stdout",
     "output_type": "stream",
     "text": [
      "Fitting 10 folds for each of 1680 candidates, totalling 16800 fits\n"
     ]
    },
    {
     "data": {
      "text/plain": [
       "GridSearchCV(cv=10, estimator=DecisionTreeRegressor(), n_jobs=-1,\n",
       "             param_grid={'criterion': ['mse', 'mae'],\n",
       "                         'max_depth': [3, 4, 5, 6, 7, 8, 10, 25],\n",
       "                         'max_features': ['auto', 'sqrt', 'log2'],\n",
       "                         'min_samples_leaf': [1, 3, 5, 6, 7],\n",
       "                         'min_samples_split': [2, 5, 8, 10, 12, 18, 25]},\n",
       "             verbose=2)"
      ]
     },
     "execution_count": 57,
     "metadata": {},
     "output_type": "execute_result"
    }
   ],
   "source": [
    "parameters = {\"criterion\":[\"mse\",\"mae\"],\"max_depth\":[3,4,5,6,7,8,10,25],\"min_samples_split\":[2,5,8,10,12,18,25],\n",
    "             \"max_features\":['auto','sqrt',\"log2\"],\"min_samples_leaf\":[1,3,5,6,7]}\n",
    "\n",
    "gcv_dt = GridSearchCV(DecisionTreeRegressor(),param_grid=parameters,n_jobs=-1,cv=10,verbose=2)\n",
    "\n",
    "gcv_dt.fit(x_train,y_train)"
   ]
  },
  {
   "cell_type": "code",
   "execution_count": 61,
   "metadata": {},
   "outputs": [
    {
     "data": {
      "text/plain": [
       "<AxesSubplot:xlabel='Price', ylabel='Count'>"
      ]
     },
     "execution_count": 61,
     "metadata": {},
     "output_type": "execute_result"
    },
    {
     "data": {
      "image/png": "[encoded data removed]",
      "text/plain": [
       "<Figure size 432x288 with 1 Axes>"
      ]
     },
     "metadata": {
      "needs_background": "light"
     },
     "output_type": "display_data"
    }
   ],
   "source": [
    "y_pred=gcv_dt.predict(x_test)\n",
    "sns.histplot(y_test - y_pred, kde = True)"
   ]
  },
  {
   "cell_type": "code",
   "execution_count": 62,
   "metadata": {},
   "outputs": [
    {
     "data": {
      "text/plain": [
       "<matplotlib.collections.PathCollection at 0x1fc2ee182e0>"
      ]
     },
     "execution_count": 62,
     "metadata": {},
     "output_type": "execute_result"
    },
    {
     "data": {
      "image/png": "[encoded data removed]",
      "text/plain": [
       "<Figure size 432x288 with 1 Axes>"
      ]
     },
     "metadata": {
      "needs_background": "light"
     },
     "output_type": "display_data"
    }
   ],
   "source": [
    "plt.scatter(y_test, y_pred)"
   ]
  },
  {
   "cell_type": "code",
   "execution_count": 63,
   "metadata": {},
   "outputs": [
    {
     "name": "stdout",
     "output_type": "stream",
     "text": [
      "r2_score: 0.2584760808732742\n",
      "mean_absolute_error: 119.41346456692914\n",
      "mean_squared_error: 144252.04049370077\n"
     ]
    }
   ],
   "source": [
    "print(\"r2_score:\",r2_score(y_test,pred))\n",
    "print('mean_absolute_error:',mean_absolute_error(y_test,pred))\n",
    "print('mean_squared_error:',mean_squared_error(y_test,pred))"
   ]
  },
  {
   "cell_type": "markdown",
   "metadata": {},
   "source": [
    "### Model Saving"
   ]
  },
  {
   "cell_type": "code",
   "execution_count": 65,
   "metadata": {},
   "outputs": [
    {
     "data": {
      "text/plain": [
       "['car_price_prediction.pkl']"
      ]
     },
     "execution_count": 65,
     "metadata": {},
     "output_type": "execute_result"
    }
   ],
   "source": [
    "import joblib\n",
    "joblib.dump(gcv_dt,\"car_price_prediction.pkl\")"
   ]
  },
  {
   "cell_type": "code",
   "execution_count": null,
   "metadata": {},
   "outputs": [],
   "source": []
  }
 ],
 "metadata": {
  "kernelspec": {
   "display_name": "Python 3",
   "language": "python",
   "name": "python3"
  },
  "language_info": {
   "codemirror_mode": {
    "name": "ipython",
    "version": 3
   },
   "file_extension": ".py",
   "mimetype": "text/x-python",
   "name": "python",
   "nbconvert_exporter": "python",
   "pygments_lexer": "ipython3",
   "version": "3.8.5"
  }
 },
 "nbformat": 4,
 "nbformat_minor": 4
}
